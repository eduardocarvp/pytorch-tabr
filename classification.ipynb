{
 "cells": [
  {
   "cell_type": "code",
   "execution_count": 1,
   "id": "5c6a895b-66d2-4bce-b161-8ecd61b36fde",
   "metadata": {},
   "outputs": [],
   "source": [
    "%load_ext autoreload\n",
    "%autoreload 2"
   ]
  },
  {
   "cell_type": "code",
   "execution_count": 2,
   "id": "b8e75195-6aa7-42e4-ad09-efa4bfa30d13",
   "metadata": {},
   "outputs": [],
   "source": [
    "import torch\n",
    "from sklearn.preprocessing import LabelEncoder\n",
    "from sklearn.metrics import roc_auc_score, accuracy_score\n",
    "\n",
    "import pandas as pd\n",
    "import numpy as np\n",
    "np.random.seed(0)\n",
    "\n",
    "import scipy\n",
    "\n",
    "import os\n",
    "from pathlib import Path\n",
    "\n",
    "import warnings\n",
    "warnings.filterwarnings('ignore', category=UserWarning, message='TypedStorage is deprecated')"
   ]
  },
  {
   "cell_type": "code",
   "execution_count": 3,
   "id": "adbed34e-f364-40fe-aee3-f29bc0f4ea39",
   "metadata": {},
   "outputs": [],
   "source": [
    "dataset_name = 'census-income'\n",
    "out = Path(os.getcwd()+'/data/'+dataset_name+'.csv')"
   ]
  },
  {
   "cell_type": "code",
   "execution_count": 4,
   "id": "a5201fb5-4bb0-4ca1-a9bc-1fec719acb4c",
   "metadata": {},
   "outputs": [],
   "source": [
    "train = pd.read_csv(out)\n",
    "target = ' <=50K'\n",
    "if \"Set\" not in train.columns:\n",
    "    train[\"Set\"] = np.random.choice([\"train\", \"valid\", \"test\"], p =[.8, .1, .1], size=(train.shape[0],))\n",
    "\n",
    "train_indices = train[train.Set==\"train\"].index\n",
    "valid_indices = train[train.Set==\"valid\"].index\n",
    "test_indices = train[train.Set==\"test\"].index"
   ]
  },
  {
   "cell_type": "code",
   "execution_count": 5,
   "id": "28defe86-70a9-4dc8-99f8-5290bc72e488",
   "metadata": {},
   "outputs": [
    {
     "name": "stdout",
     "output_type": "stream",
     "text": [
      "39 73\n",
      " State-gov 9\n",
      " Bachelors 16\n",
      " 13 16\n",
      " Never-married 7\n",
      " Adm-clerical 15\n",
      " Not-in-family 6\n",
      " White 5\n",
      " Male 2\n",
      " 2174 119\n",
      " 0 92\n",
      " 40 94\n",
      " United-States 42\n",
      " <=50K 2\n",
      "Set 3\n"
     ]
    }
   ],
   "source": [
    "nunique = train.nunique()\n",
    "types = train.dtypes\n",
    "\n",
    "categorical_columns = []\n",
    "categorical_dims =  {}\n",
    "for col in train.columns:\n",
    "    if types[col] == 'object' or nunique[col] < 200:\n",
    "        print(col, train[col].nunique())\n",
    "        l_enc = LabelEncoder()\n",
    "        train[col] = train[col].fillna(\"VV_likely\")\n",
    "        train[col] = l_enc.fit_transform(train[col].values)\n",
    "        categorical_columns.append(col)\n",
    "        categorical_dims[col] = len(l_enc.classes_)\n",
    "    else:\n",
    "        train.fillna(train.loc[train_indices, col].mean(), inplace=True)"
   ]
  },
  {
   "cell_type": "code",
   "execution_count": 6,
   "id": "1bb01385-70a4-4562-b6f7-7d4e5df80e7f",
   "metadata": {},
   "outputs": [],
   "source": [
    "unused_feat = ['Set']\n",
    "\n",
    "features = [ col for col in train.columns if col not in unused_feat+[target]] \n",
    "\n",
    "cat_idxs = [ i for i, f in enumerate(features) if f in categorical_columns]\n",
    "\n",
    "cat_dims = [ categorical_dims[f] for i, f in enumerate(features) if f in categorical_columns]\n",
    "\n",
    "num_features = [i for i in range(len(features)) if i not in cat_idxs]"
   ]
  },
  {
   "cell_type": "code",
   "execution_count": 7,
   "id": "f88ff9d1-ca05-4cb2-b860-56b12228d5af",
   "metadata": {},
   "outputs": [],
   "source": [
    "X_train = train[features].values[train_indices].astype(float)\n",
    "y_train = train[target].values[train_indices]\n",
    "\n",
    "X_valid = train[features].values[valid_indices].astype(float)\n",
    "y_valid = train[target].values[valid_indices]\n",
    "\n",
    "X_test = train[features].values[test_indices].astype(float)\n",
    "y_test = train[target].values[test_indices]"
   ]
  },
  {
   "cell_type": "code",
   "execution_count": 8,
   "id": "7747da94-bf1e-4d52-ae01-582727c1a743",
   "metadata": {
    "scrolled": true
   },
   "outputs": [],
   "source": [
    "mean = X_train[:, num_features].mean(axis=0)\n",
    "std = X_train[:, num_features].std(axis=0)\n",
    "\n",
    "X_train[:, num_features] = (X_train[:, num_features].astype(float) - mean) / std\n",
    "X_valid[:, num_features] = (X_valid[:, num_features].astype(float) - mean) / std\n",
    "X_test[:, num_features] = (X_test[:, num_features].astype(float) - mean) / std"
   ]
  },
  {
   "cell_type": "code",
   "execution_count": 9,
   "id": "5b6abaff-4364-4741-8d8f-fdf6e7df8096",
   "metadata": {},
   "outputs": [],
   "source": [
    "from tabr.model import TabRClassifier\n",
    "clf = TabRClassifier(\n",
    "    cat_indices=cat_idxs,\n",
    "    cat_cardinalities=cat_dims,\n",
    "    device_name=\"cuda\",\n",
    "    d_main=96,\n",
    "    context_size=96,\n",
    ")"
   ]
  },
  {
   "cell_type": "code",
   "execution_count": 10,
   "id": "02cfa30d-0a91-4f85-b6b3-85a3809d171e",
   "metadata": {
    "scrolled": true
   },
   "outputs": [
    {
     "data": {
      "application/vnd.jupyter.widget-view+json": {
       "model_id": "114eb4e845794479ba40c7a1e6dbc92b",
       "version_major": 2,
       "version_minor": 0
      },
      "text/plain": [
       " epochs:   0%|          | 0/100 [00:00<?, ?it/s]"
      ]
     },
     "metadata": {},
     "output_type": "display_data"
    },
    {
     "data": {
      "application/vnd.jupyter.widget-view+json": {
       "model_id": "",
       "version_major": 2,
       "version_minor": 0
      },
      "text/plain": [
       " batches:   0%|          | 0/25 [00:00<?, ?it/s]"
      ]
     },
     "metadata": {},
     "output_type": "display_data"
    },
    {
     "name": "stdout",
     "output_type": "stream",
     "text": [
      "{'val_0_auc': 0.8645661605760337}\n",
      "{'val_1_auc': 0.8629436783887046}\n"
     ]
    },
    {
     "data": {
      "application/vnd.jupyter.widget-view+json": {
       "model_id": "",
       "version_major": 2,
       "version_minor": 0
      },
      "text/plain": [
       " batches:   0%|          | 0/25 [00:00<?, ?it/s]"
      ]
     },
     "metadata": {},
     "output_type": "display_data"
    },
    {
     "name": "stdout",
     "output_type": "stream",
     "text": [
      "{'val_0_auc': 0.8832279758589148}\n",
      "{'val_1_auc': 0.8838786286430265}\n"
     ]
    },
    {
     "data": {
      "application/vnd.jupyter.widget-view+json": {
       "model_id": "",
       "version_major": 2,
       "version_minor": 0
      },
      "text/plain": [
       " batches:   0%|          | 0/25 [00:00<?, ?it/s]"
      ]
     },
     "metadata": {},
     "output_type": "display_data"
    },
    {
     "name": "stdout",
     "output_type": "stream",
     "text": [
      "{'val_0_auc': 0.8915904805220688}\n",
      "{'val_1_auc': 0.893358435243252}\n"
     ]
    },
    {
     "data": {
      "application/vnd.jupyter.widget-view+json": {
       "model_id": "",
       "version_major": 2,
       "version_minor": 0
      },
      "text/plain": [
       " batches:   0%|          | 0/25 [00:00<?, ?it/s]"
      ]
     },
     "metadata": {},
     "output_type": "display_data"
    },
    {
     "name": "stdout",
     "output_type": "stream",
     "text": [
      "{'val_0_auc': 0.8989350122391827}\n",
      "{'val_1_auc': 0.9042659396062538}\n"
     ]
    },
    {
     "data": {
      "application/vnd.jupyter.widget-view+json": {
       "model_id": "",
       "version_major": 2,
       "version_minor": 0
      },
      "text/plain": [
       " batches:   0%|          | 0/25 [00:00<?, ?it/s]"
      ]
     },
     "metadata": {},
     "output_type": "display_data"
    },
    {
     "name": "stdout",
     "output_type": "stream",
     "text": [
      "{'val_0_auc': 0.9050111660185096}\n",
      "{'val_1_auc': 0.9105398189167823}\n"
     ]
    },
    {
     "data": {
      "application/vnd.jupyter.widget-view+json": {
       "model_id": "",
       "version_major": 2,
       "version_minor": 0
      },
      "text/plain": [
       " batches:   0%|          | 0/25 [00:00<?, ?it/s]"
      ]
     },
     "metadata": {},
     "output_type": "display_data"
    },
    {
     "name": "stdout",
     "output_type": "stream",
     "text": [
      "{'val_0_auc': 0.9093549260794244}\n",
      "{'val_1_auc': 0.9149891217954045}\n"
     ]
    },
    {
     "data": {
      "application/vnd.jupyter.widget-view+json": {
       "model_id": "",
       "version_major": 2,
       "version_minor": 0
      },
      "text/plain": [
       " batches:   0%|          | 0/25 [00:00<?, ?it/s]"
      ]
     },
     "metadata": {},
     "output_type": "display_data"
    },
    {
     "name": "stdout",
     "output_type": "stream",
     "text": [
      "{'val_0_auc': 0.9128258458833931}\n",
      "{'val_1_auc': 0.9182366014826747}\n"
     ]
    },
    {
     "data": {
      "application/vnd.jupyter.widget-view+json": {
       "model_id": "",
       "version_major": 2,
       "version_minor": 0
      },
      "text/plain": [
       " batches:   0%|          | 0/25 [00:00<?, ?it/s]"
      ]
     },
     "metadata": {},
     "output_type": "display_data"
    },
    {
     "name": "stdout",
     "output_type": "stream",
     "text": [
      "{'val_0_auc': 0.915405528328981}\n",
      "{'val_1_auc': 0.9210738844246699}\n"
     ]
    },
    {
     "data": {
      "application/vnd.jupyter.widget-view+json": {
       "model_id": "",
       "version_major": 2,
       "version_minor": 0
      },
      "text/plain": [
       " batches:   0%|          | 0/25 [00:00<?, ?it/s]"
      ]
     },
     "metadata": {},
     "output_type": "display_data"
    },
    {
     "name": "stdout",
     "output_type": "stream",
     "text": [
      "{'val_0_auc': 0.9171593853323998}\n",
      "{'val_1_auc': 0.9236490676281253}\n"
     ]
    },
    {
     "data": {
      "application/vnd.jupyter.widget-view+json": {
       "model_id": "",
       "version_major": 2,
       "version_minor": 0
      },
      "text/plain": [
       " batches:   0%|          | 0/25 [00:00<?, ?it/s]"
      ]
     },
     "metadata": {},
     "output_type": "display_data"
    },
    {
     "name": "stdout",
     "output_type": "stream",
     "text": [
      "{'val_0_auc': 0.9195183025607743}\n",
      "{'val_1_auc': 0.9255056074427803}\n"
     ]
    },
    {
     "data": {
      "application/vnd.jupyter.widget-view+json": {
       "model_id": "",
       "version_major": 2,
       "version_minor": 0
      },
      "text/plain": [
       " batches:   0%|          | 0/25 [00:00<?, ?it/s]"
      ]
     },
     "metadata": {},
     "output_type": "display_data"
    },
    {
     "name": "stdout",
     "output_type": "stream",
     "text": [
      "{'val_0_auc': 0.9209256808205109}\n",
      "{'val_1_auc': 0.9266248585620314}\n"
     ]
    },
    {
     "data": {
      "application/vnd.jupyter.widget-view+json": {
       "model_id": "",
       "version_major": 2,
       "version_minor": 0
      },
      "text/plain": [
       " batches:   0%|          | 0/25 [00:00<?, ?it/s]"
      ]
     },
     "metadata": {},
     "output_type": "display_data"
    },
    {
     "name": "stdout",
     "output_type": "stream",
     "text": [
      "{'val_0_auc': 0.9220586356505163}\n",
      "{'val_1_auc': 0.9280435000330288}\n"
     ]
    },
    {
     "data": {
      "application/vnd.jupyter.widget-view+json": {
       "model_id": "",
       "version_major": 2,
       "version_minor": 0
      },
      "text/plain": [
       " batches:   0%|          | 0/25 [00:00<?, ?it/s]"
      ]
     },
     "metadata": {},
     "output_type": "display_data"
    },
    {
     "name": "stdout",
     "output_type": "stream",
     "text": [
      "{'val_0_auc': 0.923345410689738}\n",
      "{'val_1_auc': 0.9290301031138728}\n"
     ]
    },
    {
     "data": {
      "application/vnd.jupyter.widget-view+json": {
       "model_id": "",
       "version_major": 2,
       "version_minor": 0
      },
      "text/plain": [
       " batches:   0%|          | 0/25 [00:00<?, ?it/s]"
      ]
     },
     "metadata": {},
     "output_type": "display_data"
    },
    {
     "name": "stdout",
     "output_type": "stream",
     "text": [
      "{'val_0_auc': 0.9243807586760219}\n",
      "{'val_1_auc': 0.9303938741111517}\n"
     ]
    },
    {
     "data": {
      "application/vnd.jupyter.widget-view+json": {
       "model_id": "",
       "version_major": 2,
       "version_minor": 0
      },
      "text/plain": [
       " batches:   0%|          | 0/25 [00:00<?, ?it/s]"
      ]
     },
     "metadata": {},
     "output_type": "display_data"
    },
    {
     "name": "stdout",
     "output_type": "stream",
     "text": [
      "{'val_0_auc': 0.9259031188197238}\n",
      "{'val_1_auc': 0.930466324445382}\n"
     ]
    },
    {
     "data": {
      "application/vnd.jupyter.widget-view+json": {
       "model_id": "",
       "version_major": 2,
       "version_minor": 0
      },
      "text/plain": [
       " batches:   0%|          | 0/25 [00:00<?, ?it/s]"
      ]
     },
     "metadata": {},
     "output_type": "display_data"
    },
    {
     "name": "stdout",
     "output_type": "stream",
     "text": [
      "{'val_0_auc': 0.9263850206711876}\n",
      "{'val_1_auc': 0.9314129732977899}\n"
     ]
    },
    {
     "data": {
      "application/vnd.jupyter.widget-view+json": {
       "model_id": "",
       "version_major": 2,
       "version_minor": 0
      },
      "text/plain": [
       " batches:   0%|          | 0/25 [00:00<?, ?it/s]"
      ]
     },
     "metadata": {},
     "output_type": "display_data"
    },
    {
     "name": "stdout",
     "output_type": "stream",
     "text": [
      "{'val_0_auc': 0.9275414829085817}\n",
      "{'val_1_auc': 0.9309287280491468}\n"
     ]
    },
    {
     "data": {
      "application/vnd.jupyter.widget-view+json": {
       "model_id": "",
       "version_major": 2,
       "version_minor": 0
      },
      "text/plain": [
       " batches:   0%|          | 0/25 [00:00<?, ?it/s]"
      ]
     },
     "metadata": {},
     "output_type": "display_data"
    },
    {
     "name": "stdout",
     "output_type": "stream",
     "text": [
      "{'val_0_auc': 0.92783174828677}\n",
      "{'val_1_auc': 0.9322243104965618}\n"
     ]
    },
    {
     "data": {
      "application/vnd.jupyter.widget-view+json": {
       "model_id": "",
       "version_major": 2,
       "version_minor": 0
      },
      "text/plain": [
       " batches:   0%|          | 0/25 [00:00<?, ?it/s]"
      ]
     },
     "metadata": {},
     "output_type": "display_data"
    },
    {
     "name": "stdout",
     "output_type": "stream",
     "text": [
      "{'val_0_auc': 0.9284536725213737}\n",
      "{'val_1_auc': 0.9324576431906275}\n"
     ]
    },
    {
     "data": {
      "application/vnd.jupyter.widget-view+json": {
       "model_id": "",
       "version_major": 2,
       "version_minor": 0
      },
      "text/plain": [
       " batches:   0%|          | 0/25 [00:00<?, ?it/s]"
      ]
     },
     "metadata": {},
     "output_type": "display_data"
    },
    {
     "name": "stdout",
     "output_type": "stream",
     "text": [
      "{'val_0_auc': 0.9290750857253824}\n",
      "{'val_1_auc': 0.9325316916939954}\n"
     ]
    },
    {
     "data": {
      "application/vnd.jupyter.widget-view+json": {
       "model_id": "",
       "version_major": 2,
       "version_minor": 0
      },
      "text/plain": [
       " batches:   0%|          | 0/25 [00:00<?, ?it/s]"
      ]
     },
     "metadata": {},
     "output_type": "display_data"
    },
    {
     "name": "stdout",
     "output_type": "stream",
     "text": [
      "{'val_0_auc': 0.9288476771104286}\n",
      "{'val_1_auc': 0.9326393017492494}\n"
     ]
    },
    {
     "data": {
      "application/vnd.jupyter.widget-view+json": {
       "model_id": "",
       "version_major": 2,
       "version_minor": 0
      },
      "text/plain": [
       " batches:   0%|          | 0/25 [00:00<?, ?it/s]"
      ]
     },
     "metadata": {},
     "output_type": "display_data"
    },
    {
     "name": "stdout",
     "output_type": "stream",
     "text": [
      "{'val_0_auc': 0.9290342032777502}\n",
      "{'val_1_auc': 0.9326185255504629}\n"
     ]
    },
    {
     "data": {
      "application/vnd.jupyter.widget-view+json": {
       "model_id": "",
       "version_major": 2,
       "version_minor": 0
      },
      "text/plain": [
       " batches:   0%|          | 0/25 [00:00<?, ?it/s]"
      ]
     },
     "metadata": {},
     "output_type": "display_data"
    },
    {
     "name": "stdout",
     "output_type": "stream",
     "text": [
      "{'val_0_auc': 0.9299699002979309}\n",
      "{'val_1_auc': 0.9330526948327994}\n"
     ]
    },
    {
     "data": {
      "application/vnd.jupyter.widget-view+json": {
       "model_id": "",
       "version_major": 2,
       "version_minor": 0
      },
      "text/plain": [
       " batches:   0%|          | 0/25 [00:00<?, ?it/s]"
      ]
     },
     "metadata": {},
     "output_type": "display_data"
    },
    {
     "name": "stdout",
     "output_type": "stream",
     "text": [
      "{'val_0_auc': 0.9301921986069306}\n",
      "{'val_1_auc': 0.9330649474628532}\n"
     ]
    },
    {
     "data": {
      "application/vnd.jupyter.widget-view+json": {
       "model_id": "",
       "version_major": 2,
       "version_minor": 0
      },
      "text/plain": [
       " batches:   0%|          | 0/25 [00:00<?, ?it/s]"
      ]
     },
     "metadata": {},
     "output_type": "display_data"
    },
    {
     "name": "stdout",
     "output_type": "stream",
     "text": [
      "{'val_0_auc': 0.9303950777533052}\n",
      "{'val_1_auc': 0.9332647186050328}\n"
     ]
    },
    {
     "data": {
      "application/vnd.jupyter.widget-view+json": {
       "model_id": "",
       "version_major": 2,
       "version_minor": 0
      },
      "text/plain": [
       " batches:   0%|          | 0/25 [00:00<?, ?it/s]"
      ]
     },
     "metadata": {},
     "output_type": "display_data"
    },
    {
     "name": "stdout",
     "output_type": "stream",
     "text": [
      "{'val_0_auc': 0.9301727794443054}\n",
      "{'val_1_auc': 0.9329099250565219}\n"
     ]
    },
    {
     "data": {
      "application/vnd.jupyter.widget-view+json": {
       "model_id": "",
       "version_major": 2,
       "version_minor": 0
      },
      "text/plain": [
       " batches:   0%|          | 0/25 [00:00<?, ?it/s]"
      ]
     },
     "metadata": {},
     "output_type": "display_data"
    },
    {
     "name": "stdout",
     "output_type": "stream",
     "text": [
      "{'val_0_auc': 0.9306434386226704}\n",
      "{'val_1_auc': 0.9331416595814502}\n"
     ]
    },
    {
     "data": {
      "application/vnd.jupyter.widget-view+json": {
       "model_id": "",
       "version_major": 2,
       "version_minor": 0
      },
      "text/plain": [
       " batches:   0%|          | 0/25 [00:00<?, ?it/s]"
      ]
     },
     "metadata": {},
     "output_type": "display_data"
    },
    {
     "name": "stdout",
     "output_type": "stream",
     "text": [
      "{'val_0_auc': 0.9306332180107624}\n",
      "{'val_1_auc': 0.9334794059924948}\n"
     ]
    },
    {
     "data": {
      "application/vnd.jupyter.widget-view+json": {
       "model_id": "",
       "version_major": 2,
       "version_minor": 0
      },
      "text/plain": [
       " batches:   0%|          | 0/25 [00:00<?, ?it/s]"
      ]
     },
     "metadata": {},
     "output_type": "display_data"
    },
    {
     "name": "stdout",
     "output_type": "stream",
     "text": [
      "{'val_0_auc': 0.9312806937751363}\n",
      "{'val_1_auc': 0.933394170305165}\n"
     ]
    },
    {
     "data": {
      "application/vnd.jupyter.widget-view+json": {
       "model_id": "",
       "version_major": 2,
       "version_minor": 0
      },
      "text/plain": [
       " batches:   0%|          | 0/25 [00:00<?, ?it/s]"
      ]
     },
     "metadata": {},
     "output_type": "display_data"
    },
    {
     "name": "stdout",
     "output_type": "stream",
     "text": [
      "{'val_0_auc': 0.9312444106028628}\n",
      "{'val_1_auc': 0.9333542160767293}\n"
     ]
    },
    {
     "data": {
      "application/vnd.jupyter.widget-view+json": {
       "model_id": "",
       "version_major": 2,
       "version_minor": 0
      },
      "text/plain": [
       " batches:   0%|          | 0/25 [00:00<?, ?it/s]"
      ]
     },
     "metadata": {},
     "output_type": "display_data"
    },
    {
     "name": "stdout",
     "output_type": "stream",
     "text": [
      "{'val_0_auc': 0.9313823888636213}\n",
      "{'val_1_auc': 0.9327612953267403}\n"
     ]
    },
    {
     "data": {
      "application/vnd.jupyter.widget-view+json": {
       "model_id": "",
       "version_major": 2,
       "version_minor": 0
      },
      "text/plain": [
       " batches:   0%|          | 0/25 [00:00<?, ?it/s]"
      ]
     },
     "metadata": {},
     "output_type": "display_data"
    },
    {
     "name": "stdout",
     "output_type": "stream",
     "text": [
      "{'val_0_auc': 0.9313415064159891}\n",
      "{'val_1_auc': 0.9329594682997824}\n"
     ]
    },
    {
     "data": {
      "application/vnd.jupyter.widget-view+json": {
       "model_id": "",
       "version_major": 2,
       "version_minor": 0
      },
      "text/plain": [
       " batches:   0%|          | 0/25 [00:00<?, ?it/s]"
      ]
     },
     "metadata": {},
     "output_type": "display_data"
    },
    {
     "name": "stdout",
     "output_type": "stream",
     "text": [
      "{'val_0_auc': 0.9318939304896184}\n",
      "{'val_1_auc': 0.9329930298516685}\n"
     ]
    },
    {
     "data": {
      "application/vnd.jupyter.widget-view+json": {
       "model_id": "",
       "version_major": 2,
       "version_minor": 0
      },
      "text/plain": [
       " batches:   0%|          | 0/25 [00:00<?, ?it/s]"
      ]
     },
     "metadata": {},
     "output_type": "display_data"
    },
    {
     "name": "stdout",
     "output_type": "stream",
     "text": [
      "{'val_0_auc': 0.9322036150304319}\n",
      "{'val_1_auc': 0.9336109885848105}\n"
     ]
    },
    {
     "data": {
      "application/vnd.jupyter.widget-view+json": {
       "model_id": "",
       "version_major": 2,
       "version_minor": 0
      },
      "text/plain": [
       " batches:   0%|          | 0/25 [00:00<?, ?it/s]"
      ]
     },
     "metadata": {},
     "output_type": "display_data"
    },
    {
     "name": "stdout",
     "output_type": "stream",
     "text": [
      "{'val_0_auc': 0.9317319337908762}\n",
      "{'val_1_auc': 0.9334879295612282}\n"
     ]
    },
    {
     "data": {
      "application/vnd.jupyter.widget-view+json": {
       "model_id": "",
       "version_major": 2,
       "version_minor": 0
      },
      "text/plain": [
       " batches:   0%|          | 0/25 [00:00<?, ?it/s]"
      ]
     },
     "metadata": {},
     "output_type": "display_data"
    },
    {
     "name": "stdout",
     "output_type": "stream",
     "text": [
      "{'val_0_auc': 0.9316660108440693}\n",
      "{'val_1_auc': 0.9342134983496241}\n"
     ]
    },
    {
     "data": {
      "application/vnd.jupyter.widget-view+json": {
       "model_id": "",
       "version_major": 2,
       "version_minor": 0
      },
      "text/plain": [
       " batches:   0%|          | 0/25 [00:00<?, ?it/s]"
      ]
     },
     "metadata": {},
     "output_type": "display_data"
    },
    {
     "name": "stdout",
     "output_type": "stream",
     "text": [
      "{'val_0_auc': 0.9320487727600252}\n",
      "{'val_1_auc': 0.9332402133449254}\n"
     ]
    },
    {
     "data": {
      "application/vnd.jupyter.widget-view+json": {
       "model_id": "",
       "version_major": 2,
       "version_minor": 0
      },
      "text/plain": [
       " batches:   0%|          | 0/25 [00:00<?, ?it/s]"
      ]
     },
     "metadata": {},
     "output_type": "display_data"
    },
    {
     "name": "stdout",
     "output_type": "stream",
     "text": [
      "{'val_0_auc': 0.931908750376885}\n",
      "{'val_1_auc': 0.9332194371461386}\n"
     ]
    },
    {
     "data": {
      "application/vnd.jupyter.widget-view+json": {
       "model_id": "",
       "version_major": 2,
       "version_minor": 0
      },
      "text/plain": [
       " batches:   0%|          | 0/25 [00:00<?, ?it/s]"
      ]
     },
     "metadata": {},
     "output_type": "display_data"
    },
    {
     "name": "stdout",
     "output_type": "stream",
     "text": [
      "{'val_0_auc': 0.9321448465119606}\n",
      "{'val_1_auc': 0.9332609895437122}\n"
     ]
    },
    {
     "data": {
      "application/vnd.jupyter.widget-view+json": {
       "model_id": "",
       "version_major": 2,
       "version_minor": 0
      },
      "text/plain": [
       " batches:   0%|          | 0/25 [00:00<?, ?it/s]"
      ]
     },
     "metadata": {},
     "output_type": "display_data"
    },
    {
     "name": "stdout",
     "output_type": "stream",
     "text": [
      "{'val_0_auc': 0.9319741622930965}\n",
      "{'val_1_auc': 0.9333046728334686}\n"
     ]
    },
    {
     "data": {
      "application/vnd.jupyter.widget-view+json": {
       "model_id": "",
       "version_major": 2,
       "version_minor": 0
      },
      "text/plain": [
       " batches:   0%|          | 0/25 [00:00<?, ?it/s]"
      ]
     },
     "metadata": {},
     "output_type": "display_data"
    },
    {
     "name": "stdout",
     "output_type": "stream",
     "text": [
      "{'val_0_auc': 0.9325833107628154}\n",
      "{'val_1_auc': 0.9333840485672946}\n"
     ]
    },
    {
     "data": {
      "application/vnd.jupyter.widget-view+json": {
       "model_id": "",
       "version_major": 2,
       "version_minor": 0
      },
      "text/plain": [
       " batches:   0%|          | 0/25 [00:00<?, ?it/s]"
      ]
     },
     "metadata": {},
     "output_type": "display_data"
    },
    {
     "name": "stdout",
     "output_type": "stream",
     "text": [
      "{'val_0_auc': 0.9314968597169913}\n",
      "{'val_1_auc': 0.933264185881987}\n"
     ]
    },
    {
     "data": {
      "application/vnd.jupyter.widget-view+json": {
       "model_id": "",
       "version_major": 2,
       "version_minor": 0
      },
      "text/plain": [
       " batches:   0%|          | 0/25 [00:00<?, ?it/s]"
      ]
     },
     "metadata": {},
     "output_type": "display_data"
    },
    {
     "name": "stdout",
     "output_type": "stream",
     "text": [
      "{'val_0_auc': 0.9323610124538155}\n",
      "{'val_1_auc': 0.9334458444406089}\n"
     ]
    },
    {
     "data": {
      "application/vnd.jupyter.widget-view+json": {
       "model_id": "",
       "version_major": 2,
       "version_minor": 0
      },
      "text/plain": [
       " batches:   0%|          | 0/25 [00:00<?, ?it/s]"
      ]
     },
     "metadata": {},
     "output_type": "display_data"
    },
    {
     "name": "stdout",
     "output_type": "stream",
     "text": [
      "{'val_0_auc': 0.931589356254759}\n",
      "{'val_1_auc': 0.9329392248240416}\n"
     ]
    },
    {
     "data": {
      "application/vnd.jupyter.widget-view+json": {
       "model_id": "",
       "version_major": 2,
       "version_minor": 0
      },
      "text/plain": [
       " batches:   0%|          | 0/25 [00:00<?, ?it/s]"
      ]
     },
     "metadata": {},
     "output_type": "display_data"
    },
    {
     "name": "stdout",
     "output_type": "stream",
     "text": [
      "{'val_0_auc': 0.9318898422448553}\n",
      "{'val_1_auc': 0.9334772751003118}\n"
     ]
    },
    {
     "data": {
      "application/vnd.jupyter.widget-view+json": {
       "model_id": "",
       "version_major": 2,
       "version_minor": 0
      },
      "text/plain": [
       " batches:   0%|          | 0/25 [00:00<?, ?it/s]"
      ]
     },
     "metadata": {},
     "output_type": "display_data"
    },
    {
     "name": "stdout",
     "output_type": "stream",
     "text": [
      "{'val_0_auc': 0.931427870586612}\n",
      "{'val_1_auc': 0.9333526179075917}\n",
      "\n",
      "Early stopping occurred at epoch 45 with best_epoch = 35 and best_val_1_auc = 0.93421\n"
     ]
    },
    {
     "name": "stderr",
     "output_type": "stream",
     "text": [
      "/home/eduardocarvalhop/projects/pytorch-tabr/tabr/callbacks.py:172: UserWarning: Best weights from best epoch are automatically used!\n",
      "  warnings.warn(wrn_msg)\n"
     ]
    }
   ],
   "source": [
    "clf.fit(X_train, y_train, eval_set=[(X_test, y_test), (X_valid, y_valid)], max_epochs=100, batch_size=1024)"
   ]
  },
  {
   "cell_type": "code",
   "execution_count": 11,
   "id": "b905dbcc-a511-4c06-971f-631608b2e9bd",
   "metadata": {},
   "outputs": [
    {
     "name": "stdout",
     "output_type": "stream",
     "text": [
      "FINAL VALID SCORE FOR census-income : 0.9342134983496241\n",
      "FINAL TEST SCORE FOR census-income : 0.9316660108440693\n"
     ]
    }
   ],
   "source": [
    "# preds_train = clf.predict(X_train)\n",
    "# train_auc = roc_auc_score(y_score=preds_train[:,1], y_true=y_train)\n",
    "\n",
    "preds = clf.predict(X_test)\n",
    "test_auc = roc_auc_score(y_score=preds[:,1], y_true=y_test)\n",
    "\n",
    "preds_valid = clf.predict(X_valid)\n",
    "valid_auc = roc_auc_score(y_score=preds_valid[:,1], y_true=y_valid)\n",
    "\n",
    "# print(f\"FINAL TRAIN SCORE FOR {dataset_name} : {train_auc}\")\n",
    "print(f\"FINAL VALID SCORE FOR {dataset_name} : {valid_auc}\")\n",
    "print(f\"FINAL TEST SCORE FOR {dataset_name} : {test_auc}\")"
   ]
  },
  {
   "cell_type": "markdown",
   "id": "201596dc-b849-4e4c-a2a3-149869ee6d1d",
   "metadata": {},
   "source": [
    "# Catboost"
   ]
  },
  {
   "cell_type": "code",
   "execution_count": 12,
   "id": "77eaa859-6156-4720-b691-30d084ca1b2d",
   "metadata": {},
   "outputs": [],
   "source": [
    "from catboost import CatBoostClassifier"
   ]
  },
  {
   "cell_type": "code",
   "execution_count": 13,
   "id": "eb293a51-fd45-4802-a317-d5de8b7b45c1",
   "metadata": {},
   "outputs": [],
   "source": [
    "df_X_train = pd.DataFrame(X_train)\n",
    "df_X_valid = pd.DataFrame(X_valid)\n",
    "df_X_test = pd.DataFrame(X_test)"
   ]
  },
  {
   "cell_type": "code",
   "execution_count": 14,
   "id": "77ea535a-8a08-41e2-bb97-78da301e057f",
   "metadata": {},
   "outputs": [
    {
     "data": {
      "text/plain": [
       "[0, 1, 3, 4, 5, 6, 7, 8, 9, 10, 11, 12, 13]"
      ]
     },
     "execution_count": 14,
     "metadata": {},
     "output_type": "execute_result"
    }
   ],
   "source": [
    "cat_idxs"
   ]
  },
  {
   "cell_type": "code",
   "execution_count": 15,
   "id": "903bd416-ea27-4c7d-b92a-34b91f6de692",
   "metadata": {},
   "outputs": [],
   "source": [
    "for cat_id in cat_idxs:\n",
    "    df_X_train[cat_id] = df_X_train[cat_id].astype(int).astype(str)\n",
    "    df_X_valid[cat_id] = df_X_valid[cat_id].astype(int).astype(str)\n",
    "    df_X_test[cat_id] = df_X_test[cat_id].astype(int).astype(str)"
   ]
  },
  {
   "cell_type": "code",
   "execution_count": 16,
   "id": "0e7172b4-1870-4a16-bd89-f5da695b07c1",
   "metadata": {
    "scrolled": true
   },
   "outputs": [
    {
     "name": "stdout",
     "output_type": "stream",
     "text": [
      "Learning rate set to 0.070909\n",
      "0:\tlearn: 0.6242844\ttest: 0.6223686\tbest: 0.6223686 (0)\ttotal: 109ms\tremaining: 1m 49s\n",
      "1:\tlearn: 0.5742973\ttest: 0.5707437\tbest: 0.5707437 (1)\ttotal: 131ms\tremaining: 1m 5s\n",
      "2:\tlearn: 0.5248284\ttest: 0.5205044\tbest: 0.5205044 (2)\ttotal: 158ms\tremaining: 52.4s\n",
      "3:\tlearn: 0.4870848\ttest: 0.4824703\tbest: 0.4824703 (3)\ttotal: 177ms\tremaining: 44.2s\n",
      "4:\tlearn: 0.4565065\ttest: 0.4517592\tbest: 0.4517592 (4)\ttotal: 210ms\tremaining: 41.9s\n",
      "5:\tlearn: 0.4296383\ttest: 0.4247726\tbest: 0.4247726 (5)\ttotal: 227ms\tremaining: 37.7s\n",
      "6:\tlearn: 0.4095931\ttest: 0.4043557\tbest: 0.4043557 (6)\ttotal: 246ms\tremaining: 35s\n",
      "7:\tlearn: 0.3924569\ttest: 0.3869281\tbest: 0.3869281 (7)\ttotal: 264ms\tremaining: 32.7s\n",
      "8:\tlearn: 0.3792239\ttest: 0.3736618\tbest: 0.3736618 (8)\ttotal: 288ms\tremaining: 31.7s\n",
      "9:\tlearn: 0.3660921\ttest: 0.3608975\tbest: 0.3608975 (9)\ttotal: 310ms\tremaining: 30.7s\n",
      "10:\tlearn: 0.3568991\ttest: 0.3515171\tbest: 0.3515171 (10)\ttotal: 328ms\tremaining: 29.5s\n",
      "11:\tlearn: 0.3492019\ttest: 0.3438030\tbest: 0.3438030 (11)\ttotal: 347ms\tremaining: 28.6s\n",
      "12:\tlearn: 0.3415515\ttest: 0.3360265\tbest: 0.3360265 (12)\ttotal: 373ms\tremaining: 28.3s\n",
      "13:\tlearn: 0.3352898\ttest: 0.3300561\tbest: 0.3300561 (13)\ttotal: 399ms\tremaining: 28.1s\n",
      "14:\tlearn: 0.3301639\ttest: 0.3248661\tbest: 0.3248661 (14)\ttotal: 419ms\tremaining: 27.5s\n",
      "15:\tlearn: 0.3257225\ttest: 0.3202772\tbest: 0.3202772 (15)\ttotal: 442ms\tremaining: 27.2s\n",
      "16:\tlearn: 0.3219501\ttest: 0.3164411\tbest: 0.3164411 (16)\ttotal: 461ms\tremaining: 26.6s\n",
      "17:\tlearn: 0.3174705\ttest: 0.3119886\tbest: 0.3119886 (17)\ttotal: 485ms\tremaining: 26.5s\n",
      "18:\tlearn: 0.3146168\ttest: 0.3090864\tbest: 0.3090864 (18)\ttotal: 503ms\tremaining: 26s\n",
      "19:\tlearn: 0.3120033\ttest: 0.3062916\tbest: 0.3062916 (19)\ttotal: 522ms\tremaining: 25.6s\n",
      "20:\tlearn: 0.3091573\ttest: 0.3029790\tbest: 0.3029790 (20)\ttotal: 542ms\tremaining: 25.3s\n",
      "21:\tlearn: 0.3063693\ttest: 0.3006186\tbest: 0.3006186 (21)\ttotal: 562ms\tremaining: 25s\n",
      "22:\tlearn: 0.3049489\ttest: 0.2993037\tbest: 0.2993037 (22)\ttotal: 583ms\tremaining: 24.7s\n",
      "23:\tlearn: 0.3030181\ttest: 0.2975075\tbest: 0.2975075 (23)\ttotal: 601ms\tremaining: 24.4s\n",
      "24:\tlearn: 0.3016576\ttest: 0.2960986\tbest: 0.2960986 (24)\ttotal: 620ms\tremaining: 24.2s\n",
      "25:\tlearn: 0.3003069\ttest: 0.2945455\tbest: 0.2945455 (25)\ttotal: 640ms\tremaining: 24s\n",
      "26:\tlearn: 0.2986645\ttest: 0.2927447\tbest: 0.2927447 (26)\ttotal: 660ms\tremaining: 23.8s\n",
      "27:\tlearn: 0.2975856\ttest: 0.2916516\tbest: 0.2916516 (27)\ttotal: 677ms\tremaining: 23.5s\n",
      "28:\tlearn: 0.2964962\ttest: 0.2903635\tbest: 0.2903635 (28)\ttotal: 706ms\tremaining: 23.6s\n",
      "29:\tlearn: 0.2958166\ttest: 0.2894526\tbest: 0.2894526 (29)\ttotal: 723ms\tremaining: 23.4s\n",
      "30:\tlearn: 0.2949014\ttest: 0.2887170\tbest: 0.2887170 (30)\ttotal: 742ms\tremaining: 23.2s\n",
      "31:\tlearn: 0.2938988\ttest: 0.2878183\tbest: 0.2878183 (31)\ttotal: 762ms\tremaining: 23s\n",
      "32:\tlearn: 0.2928451\ttest: 0.2868274\tbest: 0.2868274 (32)\ttotal: 783ms\tremaining: 22.9s\n",
      "33:\tlearn: 0.2920224\ttest: 0.2861103\tbest: 0.2861103 (33)\ttotal: 803ms\tremaining: 22.8s\n",
      "34:\tlearn: 0.2918538\ttest: 0.2859699\tbest: 0.2859699 (34)\ttotal: 814ms\tremaining: 22.4s\n",
      "35:\tlearn: 0.2910565\ttest: 0.2851727\tbest: 0.2851727 (35)\ttotal: 835ms\tremaining: 22.3s\n",
      "36:\tlearn: 0.2904226\ttest: 0.2844240\tbest: 0.2844240 (36)\ttotal: 852ms\tremaining: 22.2s\n",
      "37:\tlearn: 0.2899159\ttest: 0.2838098\tbest: 0.2838098 (37)\ttotal: 870ms\tremaining: 22s\n",
      "38:\tlearn: 0.2891815\ttest: 0.2831949\tbest: 0.2831949 (38)\ttotal: 889ms\tremaining: 21.9s\n",
      "39:\tlearn: 0.2885488\ttest: 0.2827287\tbest: 0.2827287 (39)\ttotal: 907ms\tremaining: 21.8s\n",
      "40:\tlearn: 0.2875768\ttest: 0.2815090\tbest: 0.2815090 (40)\ttotal: 925ms\tremaining: 21.6s\n",
      "41:\tlearn: 0.2872454\ttest: 0.2812551\tbest: 0.2812551 (41)\ttotal: 949ms\tremaining: 21.6s\n",
      "42:\tlearn: 0.2869581\ttest: 0.2810175\tbest: 0.2810175 (42)\ttotal: 965ms\tremaining: 21.5s\n",
      "43:\tlearn: 0.2863935\ttest: 0.2805901\tbest: 0.2805901 (43)\ttotal: 986ms\tremaining: 21.4s\n",
      "44:\tlearn: 0.2860096\ttest: 0.2802290\tbest: 0.2802290 (44)\ttotal: 1.01s\tremaining: 21.4s\n",
      "45:\tlearn: 0.2854166\ttest: 0.2796165\tbest: 0.2796165 (45)\ttotal: 1.03s\tremaining: 21.3s\n",
      "46:\tlearn: 0.2851849\ttest: 0.2794011\tbest: 0.2794011 (46)\ttotal: 1.05s\tremaining: 21.2s\n",
      "47:\tlearn: 0.2848606\ttest: 0.2789819\tbest: 0.2789819 (47)\ttotal: 1.06s\tremaining: 21.1s\n",
      "48:\tlearn: 0.2844183\ttest: 0.2784493\tbest: 0.2784493 (48)\ttotal: 1.08s\tremaining: 20.9s\n",
      "49:\tlearn: 0.2841554\ttest: 0.2781048\tbest: 0.2781048 (49)\ttotal: 1.1s\tremaining: 20.9s\n",
      "50:\tlearn: 0.2838872\ttest: 0.2778651\tbest: 0.2778651 (50)\ttotal: 1.12s\tremaining: 20.8s\n",
      "51:\tlearn: 0.2835727\ttest: 0.2774394\tbest: 0.2774394 (51)\ttotal: 1.14s\tremaining: 20.8s\n",
      "52:\tlearn: 0.2831932\ttest: 0.2770532\tbest: 0.2770532 (52)\ttotal: 1.16s\tremaining: 20.8s\n",
      "53:\tlearn: 0.2829703\ttest: 0.2768779\tbest: 0.2768779 (53)\ttotal: 1.18s\tremaining: 20.7s\n",
      "54:\tlearn: 0.2825424\ttest: 0.2765162\tbest: 0.2765162 (54)\ttotal: 1.2s\tremaining: 20.6s\n",
      "55:\tlearn: 0.2818741\ttest: 0.2758189\tbest: 0.2758189 (55)\ttotal: 1.22s\tremaining: 20.6s\n",
      "56:\tlearn: 0.2815692\ttest: 0.2756314\tbest: 0.2756314 (56)\ttotal: 1.24s\tremaining: 20.5s\n",
      "57:\tlearn: 0.2813791\ttest: 0.2754355\tbest: 0.2754355 (57)\ttotal: 1.26s\tremaining: 20.4s\n",
      "58:\tlearn: 0.2810658\ttest: 0.2751100\tbest: 0.2751100 (58)\ttotal: 1.27s\tremaining: 20.3s\n",
      "59:\tlearn: 0.2805257\ttest: 0.2746656\tbest: 0.2746656 (59)\ttotal: 1.29s\tremaining: 20.3s\n",
      "60:\tlearn: 0.2803388\ttest: 0.2745589\tbest: 0.2745589 (60)\ttotal: 1.31s\tremaining: 20.2s\n",
      "61:\tlearn: 0.2801865\ttest: 0.2743934\tbest: 0.2743934 (61)\ttotal: 1.33s\tremaining: 20.2s\n",
      "62:\tlearn: 0.2795735\ttest: 0.2738764\tbest: 0.2738764 (62)\ttotal: 1.35s\tremaining: 20.1s\n",
      "63:\tlearn: 0.2793756\ttest: 0.2737452\tbest: 0.2737452 (63)\ttotal: 1.37s\tremaining: 20.1s\n",
      "64:\tlearn: 0.2791365\ttest: 0.2736100\tbest: 0.2736100 (64)\ttotal: 1.39s\tremaining: 20s\n",
      "65:\tlearn: 0.2789302\ttest: 0.2733797\tbest: 0.2733797 (65)\ttotal: 1.41s\tremaining: 19.9s\n",
      "66:\tlearn: 0.2787907\ttest: 0.2732151\tbest: 0.2732151 (66)\ttotal: 1.43s\tremaining: 19.9s\n",
      "67:\tlearn: 0.2785850\ttest: 0.2730953\tbest: 0.2730953 (67)\ttotal: 1.45s\tremaining: 19.8s\n",
      "68:\tlearn: 0.2783907\ttest: 0.2729437\tbest: 0.2729437 (68)\ttotal: 1.47s\tremaining: 19.8s\n",
      "69:\tlearn: 0.2781706\ttest: 0.2727648\tbest: 0.2727648 (69)\ttotal: 1.49s\tremaining: 19.8s\n",
      "70:\tlearn: 0.2779771\ttest: 0.2726120\tbest: 0.2726120 (70)\ttotal: 1.5s\tremaining: 19.7s\n",
      "71:\tlearn: 0.2776975\ttest: 0.2724404\tbest: 0.2724404 (71)\ttotal: 1.52s\tremaining: 19.7s\n",
      "72:\tlearn: 0.2775586\ttest: 0.2723201\tbest: 0.2723201 (72)\ttotal: 1.55s\tremaining: 19.6s\n",
      "73:\tlearn: 0.2774003\ttest: 0.2723873\tbest: 0.2723201 (72)\ttotal: 1.57s\tremaining: 19.6s\n",
      "74:\tlearn: 0.2772490\ttest: 0.2722227\tbest: 0.2722227 (74)\ttotal: 1.59s\tremaining: 19.6s\n",
      "75:\tlearn: 0.2770818\ttest: 0.2721384\tbest: 0.2721384 (75)\ttotal: 1.61s\tremaining: 19.5s\n",
      "76:\tlearn: 0.2766552\ttest: 0.2717486\tbest: 0.2717486 (76)\ttotal: 1.63s\tremaining: 19.5s\n",
      "77:\tlearn: 0.2764635\ttest: 0.2716842\tbest: 0.2716842 (77)\ttotal: 1.65s\tremaining: 19.5s\n",
      "78:\tlearn: 0.2763858\ttest: 0.2716634\tbest: 0.2716634 (78)\ttotal: 1.66s\tremaining: 19.4s\n",
      "79:\tlearn: 0.2762686\ttest: 0.2715773\tbest: 0.2715773 (79)\ttotal: 1.68s\tremaining: 19.4s\n",
      "80:\tlearn: 0.2760782\ttest: 0.2714276\tbest: 0.2714276 (80)\ttotal: 1.7s\tremaining: 19.3s\n",
      "81:\tlearn: 0.2754593\ttest: 0.2709754\tbest: 0.2709754 (81)\ttotal: 1.72s\tremaining: 19.3s\n",
      "82:\tlearn: 0.2752994\ttest: 0.2708513\tbest: 0.2708513 (82)\ttotal: 1.74s\tremaining: 19.2s\n",
      "83:\tlearn: 0.2752585\ttest: 0.2708393\tbest: 0.2708393 (83)\ttotal: 1.76s\tremaining: 19.2s\n",
      "84:\tlearn: 0.2750219\ttest: 0.2707213\tbest: 0.2707213 (84)\ttotal: 1.78s\tremaining: 19.2s\n",
      "85:\tlearn: 0.2748261\ttest: 0.2706593\tbest: 0.2706593 (85)\ttotal: 1.8s\tremaining: 19.2s\n",
      "86:\tlearn: 0.2747547\ttest: 0.2706431\tbest: 0.2706431 (86)\ttotal: 1.82s\tremaining: 19.1s\n",
      "87:\tlearn: 0.2746426\ttest: 0.2705084\tbest: 0.2705084 (87)\ttotal: 1.84s\tremaining: 19.1s\n",
      "88:\tlearn: 0.2744888\ttest: 0.2704562\tbest: 0.2704562 (88)\ttotal: 1.86s\tremaining: 19s\n",
      "89:\tlearn: 0.2743313\ttest: 0.2703661\tbest: 0.2703661 (89)\ttotal: 1.88s\tremaining: 19s\n",
      "90:\tlearn: 0.2742629\ttest: 0.2703466\tbest: 0.2703466 (90)\ttotal: 1.9s\tremaining: 19s\n",
      "91:\tlearn: 0.2742007\ttest: 0.2703383\tbest: 0.2703383 (91)\ttotal: 1.92s\tremaining: 18.9s\n",
      "92:\tlearn: 0.2739543\ttest: 0.2702204\tbest: 0.2702204 (92)\ttotal: 1.94s\tremaining: 18.9s\n",
      "93:\tlearn: 0.2736857\ttest: 0.2701299\tbest: 0.2701299 (93)\ttotal: 1.96s\tremaining: 18.9s\n",
      "94:\tlearn: 0.2735167\ttest: 0.2699799\tbest: 0.2699799 (94)\ttotal: 1.98s\tremaining: 18.9s\n",
      "95:\tlearn: 0.2734254\ttest: 0.2699419\tbest: 0.2699419 (95)\ttotal: 2s\tremaining: 18.9s\n",
      "96:\tlearn: 0.2731569\ttest: 0.2697059\tbest: 0.2697059 (96)\ttotal: 2.02s\tremaining: 18.9s\n",
      "97:\tlearn: 0.2729258\ttest: 0.2695518\tbest: 0.2695518 (97)\ttotal: 2.04s\tremaining: 18.8s\n",
      "98:\tlearn: 0.2727423\ttest: 0.2694360\tbest: 0.2694360 (98)\ttotal: 2.06s\tremaining: 18.8s\n",
      "99:\tlearn: 0.2725868\ttest: 0.2693584\tbest: 0.2693584 (99)\ttotal: 2.08s\tremaining: 18.7s\n",
      "100:\tlearn: 0.2724805\ttest: 0.2693473\tbest: 0.2693473 (100)\ttotal: 2.1s\tremaining: 18.7s\n",
      "101:\tlearn: 0.2723793\ttest: 0.2692709\tbest: 0.2692709 (101)\ttotal: 2.13s\tremaining: 18.7s\n",
      "102:\tlearn: 0.2723557\ttest: 0.2692494\tbest: 0.2692494 (102)\ttotal: 2.14s\tremaining: 18.7s\n",
      "103:\tlearn: 0.2721939\ttest: 0.2691977\tbest: 0.2691977 (103)\ttotal: 2.16s\tremaining: 18.6s\n",
      "104:\tlearn: 0.2720853\ttest: 0.2691136\tbest: 0.2691136 (104)\ttotal: 2.18s\tremaining: 18.6s\n",
      "105:\tlearn: 0.2719484\ttest: 0.2690822\tbest: 0.2690822 (105)\ttotal: 2.2s\tremaining: 18.6s\n",
      "106:\tlearn: 0.2718767\ttest: 0.2690717\tbest: 0.2690717 (106)\ttotal: 2.22s\tremaining: 18.5s\n",
      "107:\tlearn: 0.2716449\ttest: 0.2689027\tbest: 0.2689027 (107)\ttotal: 2.24s\tremaining: 18.5s\n",
      "108:\tlearn: 0.2715468\ttest: 0.2688765\tbest: 0.2688765 (108)\ttotal: 2.26s\tremaining: 18.5s\n",
      "109:\tlearn: 0.2714211\ttest: 0.2687913\tbest: 0.2687913 (109)\ttotal: 2.28s\tremaining: 18.4s\n",
      "110:\tlearn: 0.2713135\ttest: 0.2687248\tbest: 0.2687248 (110)\ttotal: 2.3s\tremaining: 18.4s\n",
      "111:\tlearn: 0.2712524\ttest: 0.2687285\tbest: 0.2687248 (110)\ttotal: 2.32s\tremaining: 18.4s\n",
      "112:\tlearn: 0.2711065\ttest: 0.2686326\tbest: 0.2686326 (112)\ttotal: 2.33s\tremaining: 18.3s\n",
      "113:\tlearn: 0.2709883\ttest: 0.2685491\tbest: 0.2685491 (113)\ttotal: 2.35s\tremaining: 18.3s\n",
      "114:\tlearn: 0.2709206\ttest: 0.2684952\tbest: 0.2684952 (114)\ttotal: 2.37s\tremaining: 18.3s\n",
      "115:\tlearn: 0.2708435\ttest: 0.2684396\tbest: 0.2684396 (115)\ttotal: 2.39s\tremaining: 18.2s\n",
      "116:\tlearn: 0.2707242\ttest: 0.2684503\tbest: 0.2684396 (115)\ttotal: 2.41s\tremaining: 18.2s\n",
      "117:\tlearn: 0.2705290\ttest: 0.2684643\tbest: 0.2684396 (115)\ttotal: 2.43s\tremaining: 18.1s\n",
      "118:\tlearn: 0.2704826\ttest: 0.2684607\tbest: 0.2684396 (115)\ttotal: 2.44s\tremaining: 18.1s\n",
      "119:\tlearn: 0.2703508\ttest: 0.2683899\tbest: 0.2683899 (119)\ttotal: 2.46s\tremaining: 18.1s\n",
      "120:\tlearn: 0.2701664\ttest: 0.2682504\tbest: 0.2682504 (120)\ttotal: 2.48s\tremaining: 18s\n",
      "121:\tlearn: 0.2700886\ttest: 0.2682570\tbest: 0.2682504 (120)\ttotal: 2.5s\tremaining: 18s\n",
      "122:\tlearn: 0.2700266\ttest: 0.2682528\tbest: 0.2682504 (120)\ttotal: 2.52s\tremaining: 18s\n",
      "123:\tlearn: 0.2698729\ttest: 0.2681078\tbest: 0.2681078 (123)\ttotal: 2.54s\tremaining: 18s\n",
      "124:\tlearn: 0.2698008\ttest: 0.2680485\tbest: 0.2680485 (124)\ttotal: 2.56s\tremaining: 17.9s\n",
      "125:\tlearn: 0.2696442\ttest: 0.2680728\tbest: 0.2680485 (124)\ttotal: 2.58s\tremaining: 17.9s\n",
      "126:\tlearn: 0.2695414\ttest: 0.2680870\tbest: 0.2680485 (124)\ttotal: 2.6s\tremaining: 17.9s\n",
      "127:\tlearn: 0.2694364\ttest: 0.2681551\tbest: 0.2680485 (124)\ttotal: 2.62s\tremaining: 17.9s\n",
      "128:\tlearn: 0.2694097\ttest: 0.2681438\tbest: 0.2680485 (124)\ttotal: 2.63s\tremaining: 17.8s\n",
      "129:\tlearn: 0.2693279\ttest: 0.2681147\tbest: 0.2680485 (124)\ttotal: 2.65s\tremaining: 17.7s\n",
      "130:\tlearn: 0.2691791\ttest: 0.2680906\tbest: 0.2680485 (124)\ttotal: 2.67s\tremaining: 17.7s\n",
      "131:\tlearn: 0.2690651\ttest: 0.2681197\tbest: 0.2680485 (124)\ttotal: 2.69s\tremaining: 17.7s\n",
      "132:\tlearn: 0.2689892\ttest: 0.2681504\tbest: 0.2680485 (124)\ttotal: 2.71s\tremaining: 17.7s\n",
      "133:\tlearn: 0.2689040\ttest: 0.2680984\tbest: 0.2680485 (124)\ttotal: 2.73s\tremaining: 17.6s\n",
      "134:\tlearn: 0.2687238\ttest: 0.2680633\tbest: 0.2680485 (124)\ttotal: 2.75s\tremaining: 17.6s\n",
      "135:\tlearn: 0.2685905\ttest: 0.2680663\tbest: 0.2680485 (124)\ttotal: 2.77s\tremaining: 17.6s\n",
      "136:\tlearn: 0.2685026\ttest: 0.2680460\tbest: 0.2680460 (136)\ttotal: 2.79s\tremaining: 17.6s\n",
      "137:\tlearn: 0.2684771\ttest: 0.2680144\tbest: 0.2680144 (137)\ttotal: 2.81s\tremaining: 17.5s\n",
      "138:\tlearn: 0.2684453\ttest: 0.2679954\tbest: 0.2679954 (138)\ttotal: 2.83s\tremaining: 17.5s\n",
      "139:\tlearn: 0.2683153\ttest: 0.2678670\tbest: 0.2678670 (139)\ttotal: 2.85s\tremaining: 17.5s\n",
      "140:\tlearn: 0.2682867\ttest: 0.2678750\tbest: 0.2678670 (139)\ttotal: 2.87s\tremaining: 17.5s\n",
      "141:\tlearn: 0.2681832\ttest: 0.2678708\tbest: 0.2678670 (139)\ttotal: 2.89s\tremaining: 17.5s\n",
      "142:\tlearn: 0.2680838\ttest: 0.2678752\tbest: 0.2678670 (139)\ttotal: 2.91s\tremaining: 17.4s\n",
      "143:\tlearn: 0.2680136\ttest: 0.2678125\tbest: 0.2678125 (143)\ttotal: 2.93s\tremaining: 17.4s\n",
      "144:\tlearn: 0.2679083\ttest: 0.2677928\tbest: 0.2677928 (144)\ttotal: 2.95s\tremaining: 17.4s\n",
      "145:\tlearn: 0.2676528\ttest: 0.2676232\tbest: 0.2676232 (145)\ttotal: 2.98s\tremaining: 17.4s\n",
      "146:\tlearn: 0.2675443\ttest: 0.2675896\tbest: 0.2675896 (146)\ttotal: 2.99s\tremaining: 17.4s\n",
      "147:\tlearn: 0.2673526\ttest: 0.2674296\tbest: 0.2674296 (147)\ttotal: 3.01s\tremaining: 17.3s\n",
      "148:\tlearn: 0.2672785\ttest: 0.2674013\tbest: 0.2674013 (148)\ttotal: 3.03s\tremaining: 17.3s\n",
      "149:\tlearn: 0.2671926\ttest: 0.2674234\tbest: 0.2674013 (148)\ttotal: 3.05s\tremaining: 17.3s\n",
      "150:\tlearn: 0.2671156\ttest: 0.2674173\tbest: 0.2674013 (148)\ttotal: 3.08s\tremaining: 17.3s\n",
      "151:\tlearn: 0.2669863\ttest: 0.2672882\tbest: 0.2672882 (151)\ttotal: 3.1s\tremaining: 17.3s\n",
      "152:\tlearn: 0.2668590\ttest: 0.2672659\tbest: 0.2672659 (152)\ttotal: 3.12s\tremaining: 17.3s\n",
      "153:\tlearn: 0.2667612\ttest: 0.2671850\tbest: 0.2671850 (153)\ttotal: 3.14s\tremaining: 17.2s\n",
      "154:\tlearn: 0.2666301\ttest: 0.2671136\tbest: 0.2671136 (154)\ttotal: 3.16s\tremaining: 17.2s\n",
      "155:\tlearn: 0.2664010\ttest: 0.2670064\tbest: 0.2670064 (155)\ttotal: 3.18s\tremaining: 17.2s\n",
      "156:\tlearn: 0.2662489\ttest: 0.2669193\tbest: 0.2669193 (156)\ttotal: 3.2s\tremaining: 17.2s\n",
      "157:\tlearn: 0.2661059\ttest: 0.2668412\tbest: 0.2668412 (157)\ttotal: 3.21s\tremaining: 17.1s\n",
      "158:\tlearn: 0.2660730\ttest: 0.2668323\tbest: 0.2668323 (158)\ttotal: 3.23s\tremaining: 17.1s\n",
      "159:\tlearn: 0.2659453\ttest: 0.2668046\tbest: 0.2668046 (159)\ttotal: 3.25s\tremaining: 17.1s\n",
      "160:\tlearn: 0.2658062\ttest: 0.2667217\tbest: 0.2667217 (160)\ttotal: 3.27s\tremaining: 17.1s\n",
      "161:\tlearn: 0.2657116\ttest: 0.2667068\tbest: 0.2667068 (161)\ttotal: 3.29s\tremaining: 17s\n",
      "162:\tlearn: 0.2656436\ttest: 0.2666958\tbest: 0.2666958 (162)\ttotal: 3.31s\tremaining: 17s\n",
      "163:\tlearn: 0.2655882\ttest: 0.2667439\tbest: 0.2666958 (162)\ttotal: 3.34s\tremaining: 17s\n",
      "164:\tlearn: 0.2655138\ttest: 0.2667271\tbest: 0.2666958 (162)\ttotal: 3.36s\tremaining: 17s\n",
      "165:\tlearn: 0.2654374\ttest: 0.2667507\tbest: 0.2666958 (162)\ttotal: 3.38s\tremaining: 17s\n",
      "166:\tlearn: 0.2653518\ttest: 0.2667626\tbest: 0.2666958 (162)\ttotal: 3.4s\tremaining: 16.9s\n",
      "167:\tlearn: 0.2653093\ttest: 0.2667756\tbest: 0.2666958 (162)\ttotal: 3.42s\tremaining: 16.9s\n",
      "168:\tlearn: 0.2652562\ttest: 0.2667721\tbest: 0.2666958 (162)\ttotal: 3.44s\tremaining: 16.9s\n",
      "169:\tlearn: 0.2651794\ttest: 0.2667622\tbest: 0.2666958 (162)\ttotal: 3.46s\tremaining: 16.9s\n",
      "170:\tlearn: 0.2650554\ttest: 0.2666191\tbest: 0.2666191 (170)\ttotal: 3.48s\tremaining: 16.9s\n",
      "171:\tlearn: 0.2649698\ttest: 0.2665699\tbest: 0.2665699 (171)\ttotal: 3.5s\tremaining: 16.8s\n",
      "172:\tlearn: 0.2648803\ttest: 0.2665689\tbest: 0.2665689 (172)\ttotal: 3.52s\tremaining: 16.8s\n",
      "173:\tlearn: 0.2647978\ttest: 0.2665616\tbest: 0.2665616 (173)\ttotal: 3.54s\tremaining: 16.8s\n",
      "174:\tlearn: 0.2647832\ttest: 0.2665545\tbest: 0.2665545 (174)\ttotal: 3.56s\tremaining: 16.8s\n",
      "175:\tlearn: 0.2647424\ttest: 0.2665254\tbest: 0.2665254 (175)\ttotal: 3.58s\tremaining: 16.8s\n",
      "176:\tlearn: 0.2646596\ttest: 0.2665392\tbest: 0.2665254 (175)\ttotal: 3.61s\tremaining: 16.8s\n",
      "177:\tlearn: 0.2645585\ttest: 0.2664887\tbest: 0.2664887 (177)\ttotal: 3.62s\tremaining: 16.7s\n",
      "178:\tlearn: 0.2644499\ttest: 0.2664537\tbest: 0.2664537 (178)\ttotal: 3.65s\tremaining: 16.7s\n",
      "179:\tlearn: 0.2643918\ttest: 0.2664297\tbest: 0.2664297 (179)\ttotal: 3.67s\tremaining: 16.7s\n",
      "180:\tlearn: 0.2643419\ttest: 0.2664339\tbest: 0.2664297 (179)\ttotal: 3.69s\tremaining: 16.7s\n",
      "181:\tlearn: 0.2641815\ttest: 0.2663749\tbest: 0.2663749 (181)\ttotal: 3.71s\tremaining: 16.7s\n",
      "182:\tlearn: 0.2641088\ttest: 0.2664418\tbest: 0.2663749 (181)\ttotal: 3.73s\tremaining: 16.7s\n",
      "183:\tlearn: 0.2640184\ttest: 0.2663231\tbest: 0.2663231 (183)\ttotal: 3.75s\tremaining: 16.6s\n",
      "184:\tlearn: 0.2638953\ttest: 0.2664217\tbest: 0.2663231 (183)\ttotal: 3.77s\tremaining: 16.6s\n",
      "185:\tlearn: 0.2637650\ttest: 0.2664044\tbest: 0.2663231 (183)\ttotal: 3.79s\tremaining: 16.6s\n",
      "186:\tlearn: 0.2636699\ttest: 0.2663093\tbest: 0.2663093 (186)\ttotal: 3.81s\tremaining: 16.6s\n",
      "187:\tlearn: 0.2634810\ttest: 0.2662641\tbest: 0.2662641 (187)\ttotal: 3.84s\tremaining: 16.6s\n",
      "188:\tlearn: 0.2632830\ttest: 0.2661635\tbest: 0.2661635 (188)\ttotal: 3.86s\tremaining: 16.6s\n",
      "189:\tlearn: 0.2631978\ttest: 0.2662262\tbest: 0.2661635 (188)\ttotal: 3.88s\tremaining: 16.5s\n",
      "190:\tlearn: 0.2631869\ttest: 0.2662256\tbest: 0.2661635 (188)\ttotal: 3.89s\tremaining: 16.5s\n",
      "191:\tlearn: 0.2631295\ttest: 0.2662129\tbest: 0.2661635 (188)\ttotal: 3.91s\tremaining: 16.5s\n",
      "192:\tlearn: 0.2630633\ttest: 0.2662163\tbest: 0.2661635 (188)\ttotal: 3.93s\tremaining: 16.4s\n",
      "193:\tlearn: 0.2629470\ttest: 0.2663104\tbest: 0.2661635 (188)\ttotal: 3.95s\tremaining: 16.4s\n",
      "194:\tlearn: 0.2628238\ttest: 0.2662904\tbest: 0.2661635 (188)\ttotal: 3.98s\tremaining: 16.4s\n",
      "195:\tlearn: 0.2628238\ttest: 0.2662907\tbest: 0.2661635 (188)\ttotal: 4s\tremaining: 16.4s\n",
      "196:\tlearn: 0.2627214\ttest: 0.2663099\tbest: 0.2661635 (188)\ttotal: 4.02s\tremaining: 16.4s\n",
      "197:\tlearn: 0.2626289\ttest: 0.2663117\tbest: 0.2661635 (188)\ttotal: 4.05s\tremaining: 16.4s\n",
      "198:\tlearn: 0.2625807\ttest: 0.2663033\tbest: 0.2661635 (188)\ttotal: 4.07s\tremaining: 16.4s\n",
      "199:\tlearn: 0.2625624\ttest: 0.2662981\tbest: 0.2661635 (188)\ttotal: 4.08s\tremaining: 16.3s\n",
      "200:\tlearn: 0.2623640\ttest: 0.2661940\tbest: 0.2661635 (188)\ttotal: 4.11s\tremaining: 16.3s\n",
      "201:\tlearn: 0.2623268\ttest: 0.2661985\tbest: 0.2661635 (188)\ttotal: 4.13s\tremaining: 16.3s\n",
      "202:\tlearn: 0.2622917\ttest: 0.2661771\tbest: 0.2661635 (188)\ttotal: 4.14s\tremaining: 16.3s\n",
      "203:\tlearn: 0.2621060\ttest: 0.2660547\tbest: 0.2660547 (203)\ttotal: 4.16s\tremaining: 16.3s\n",
      "204:\tlearn: 0.2619779\ttest: 0.2660154\tbest: 0.2660154 (204)\ttotal: 4.18s\tremaining: 16.2s\n",
      "205:\tlearn: 0.2619334\ttest: 0.2660399\tbest: 0.2660154 (204)\ttotal: 4.21s\tremaining: 16.2s\n",
      "206:\tlearn: 0.2618754\ttest: 0.2660377\tbest: 0.2660154 (204)\ttotal: 4.22s\tremaining: 16.2s\n",
      "207:\tlearn: 0.2617627\ttest: 0.2661055\tbest: 0.2660154 (204)\ttotal: 4.24s\tremaining: 16.2s\n",
      "208:\tlearn: 0.2616901\ttest: 0.2660746\tbest: 0.2660154 (204)\ttotal: 4.27s\tremaining: 16.1s\n",
      "209:\tlearn: 0.2616409\ttest: 0.2660609\tbest: 0.2660154 (204)\ttotal: 4.29s\tremaining: 16.1s\n",
      "210:\tlearn: 0.2615207\ttest: 0.2660253\tbest: 0.2660154 (204)\ttotal: 4.3s\tremaining: 16.1s\n",
      "211:\tlearn: 0.2613866\ttest: 0.2659733\tbest: 0.2659733 (211)\ttotal: 4.33s\tremaining: 16.1s\n",
      "212:\tlearn: 0.2613160\ttest: 0.2659686\tbest: 0.2659686 (212)\ttotal: 4.34s\tremaining: 16.1s\n",
      "213:\tlearn: 0.2612525\ttest: 0.2659586\tbest: 0.2659586 (213)\ttotal: 4.37s\tremaining: 16.1s\n",
      "214:\tlearn: 0.2611339\ttest: 0.2659636\tbest: 0.2659586 (213)\ttotal: 4.39s\tremaining: 16s\n",
      "215:\tlearn: 0.2611079\ttest: 0.2659419\tbest: 0.2659419 (215)\ttotal: 4.41s\tremaining: 16s\n",
      "216:\tlearn: 0.2611003\ttest: 0.2659390\tbest: 0.2659390 (216)\ttotal: 4.43s\tremaining: 16s\n",
      "217:\tlearn: 0.2609757\ttest: 0.2658801\tbest: 0.2658801 (217)\ttotal: 4.45s\tremaining: 16s\n",
      "218:\tlearn: 0.2609135\ttest: 0.2658543\tbest: 0.2658543 (218)\ttotal: 4.47s\tremaining: 15.9s\n",
      "219:\tlearn: 0.2608521\ttest: 0.2658498\tbest: 0.2658498 (219)\ttotal: 4.49s\tremaining: 15.9s\n",
      "220:\tlearn: 0.2607169\ttest: 0.2658903\tbest: 0.2658498 (219)\ttotal: 4.5s\tremaining: 15.9s\n",
      "221:\tlearn: 0.2606169\ttest: 0.2658781\tbest: 0.2658498 (219)\ttotal: 4.52s\tremaining: 15.9s\n",
      "222:\tlearn: 0.2605809\ttest: 0.2658663\tbest: 0.2658498 (219)\ttotal: 4.55s\tremaining: 15.8s\n",
      "223:\tlearn: 0.2604669\ttest: 0.2658612\tbest: 0.2658498 (219)\ttotal: 4.57s\tremaining: 15.8s\n",
      "224:\tlearn: 0.2604051\ttest: 0.2658318\tbest: 0.2658318 (224)\ttotal: 4.59s\tremaining: 15.8s\n",
      "225:\tlearn: 0.2603884\ttest: 0.2658155\tbest: 0.2658155 (225)\ttotal: 4.61s\tremaining: 15.8s\n",
      "226:\tlearn: 0.2603187\ttest: 0.2658409\tbest: 0.2658155 (225)\ttotal: 4.63s\tremaining: 15.8s\n",
      "227:\tlearn: 0.2603047\ttest: 0.2657829\tbest: 0.2657829 (227)\ttotal: 4.65s\tremaining: 15.7s\n",
      "228:\tlearn: 0.2602147\ttest: 0.2658572\tbest: 0.2657829 (227)\ttotal: 4.67s\tremaining: 15.7s\n",
      "229:\tlearn: 0.2601640\ttest: 0.2658791\tbest: 0.2657829 (227)\ttotal: 4.69s\tremaining: 15.7s\n",
      "230:\tlearn: 0.2601136\ttest: 0.2658984\tbest: 0.2657829 (227)\ttotal: 4.71s\tremaining: 15.7s\n",
      "231:\tlearn: 0.2600068\ttest: 0.2658564\tbest: 0.2657829 (227)\ttotal: 4.73s\tremaining: 15.7s\n",
      "232:\tlearn: 0.2599463\ttest: 0.2658407\tbest: 0.2657829 (227)\ttotal: 4.75s\tremaining: 15.6s\n",
      "233:\tlearn: 0.2597702\ttest: 0.2658411\tbest: 0.2657829 (227)\ttotal: 4.77s\tremaining: 15.6s\n",
      "234:\tlearn: 0.2597210\ttest: 0.2658369\tbest: 0.2657829 (227)\ttotal: 4.79s\tremaining: 15.6s\n",
      "235:\tlearn: 0.2596735\ttest: 0.2658333\tbest: 0.2657829 (227)\ttotal: 4.81s\tremaining: 15.6s\n",
      "236:\tlearn: 0.2596032\ttest: 0.2658191\tbest: 0.2657829 (227)\ttotal: 4.83s\tremaining: 15.6s\n",
      "237:\tlearn: 0.2595523\ttest: 0.2658077\tbest: 0.2657829 (227)\ttotal: 4.85s\tremaining: 15.5s\n",
      "238:\tlearn: 0.2595084\ttest: 0.2658384\tbest: 0.2657829 (227)\ttotal: 4.87s\tremaining: 15.5s\n",
      "239:\tlearn: 0.2595081\ttest: 0.2658417\tbest: 0.2657829 (227)\ttotal: 4.89s\tremaining: 15.5s\n",
      "240:\tlearn: 0.2594293\ttest: 0.2658380\tbest: 0.2657829 (227)\ttotal: 4.91s\tremaining: 15.5s\n",
      "241:\tlearn: 0.2593389\ttest: 0.2658611\tbest: 0.2657829 (227)\ttotal: 4.93s\tremaining: 15.5s\n",
      "242:\tlearn: 0.2591695\ttest: 0.2658939\tbest: 0.2657829 (227)\ttotal: 4.95s\tremaining: 15.4s\n",
      "243:\tlearn: 0.2591134\ttest: 0.2658508\tbest: 0.2657829 (227)\ttotal: 4.97s\tremaining: 15.4s\n",
      "244:\tlearn: 0.2589937\ttest: 0.2657999\tbest: 0.2657829 (227)\ttotal: 4.99s\tremaining: 15.4s\n",
      "245:\tlearn: 0.2589619\ttest: 0.2658147\tbest: 0.2657829 (227)\ttotal: 5.01s\tremaining: 15.4s\n",
      "246:\tlearn: 0.2588776\ttest: 0.2658102\tbest: 0.2657829 (227)\ttotal: 5.03s\tremaining: 15.3s\n",
      "247:\tlearn: 0.2588463\ttest: 0.2657803\tbest: 0.2657803 (247)\ttotal: 5.06s\tremaining: 15.3s\n",
      "248:\tlearn: 0.2587905\ttest: 0.2658060\tbest: 0.2657803 (247)\ttotal: 5.08s\tremaining: 15.3s\n",
      "249:\tlearn: 0.2586531\ttest: 0.2658246\tbest: 0.2657803 (247)\ttotal: 5.1s\tremaining: 15.3s\n",
      "250:\tlearn: 0.2586056\ttest: 0.2658350\tbest: 0.2657803 (247)\ttotal: 5.12s\tremaining: 15.3s\n",
      "251:\tlearn: 0.2583425\ttest: 0.2656770\tbest: 0.2656770 (251)\ttotal: 5.14s\tremaining: 15.3s\n",
      "252:\tlearn: 0.2583052\ttest: 0.2656583\tbest: 0.2656583 (252)\ttotal: 5.16s\tremaining: 15.2s\n",
      "253:\tlearn: 0.2582237\ttest: 0.2656280\tbest: 0.2656280 (253)\ttotal: 5.18s\tremaining: 15.2s\n",
      "254:\tlearn: 0.2581415\ttest: 0.2657287\tbest: 0.2656280 (253)\ttotal: 5.2s\tremaining: 15.2s\n",
      "255:\tlearn: 0.2580753\ttest: 0.2657187\tbest: 0.2656280 (253)\ttotal: 5.22s\tremaining: 15.2s\n",
      "256:\tlearn: 0.2580078\ttest: 0.2657188\tbest: 0.2656280 (253)\ttotal: 5.24s\tremaining: 15.2s\n",
      "257:\tlearn: 0.2579748\ttest: 0.2657037\tbest: 0.2656280 (253)\ttotal: 5.27s\tremaining: 15.1s\n",
      "258:\tlearn: 0.2579748\ttest: 0.2657038\tbest: 0.2656280 (253)\ttotal: 5.28s\tremaining: 15.1s\n",
      "259:\tlearn: 0.2578820\ttest: 0.2656993\tbest: 0.2656280 (253)\ttotal: 5.31s\tremaining: 15.1s\n",
      "260:\tlearn: 0.2578389\ttest: 0.2657077\tbest: 0.2656280 (253)\ttotal: 5.33s\tremaining: 15.1s\n",
      "261:\tlearn: 0.2577856\ttest: 0.2657078\tbest: 0.2656280 (253)\ttotal: 5.34s\tremaining: 15.1s\n",
      "262:\tlearn: 0.2577044\ttest: 0.2656975\tbest: 0.2656280 (253)\ttotal: 5.36s\tremaining: 15s\n",
      "263:\tlearn: 0.2575130\ttest: 0.2656314\tbest: 0.2656280 (253)\ttotal: 5.39s\tremaining: 15s\n",
      "264:\tlearn: 0.2574395\ttest: 0.2656350\tbest: 0.2656280 (253)\ttotal: 5.41s\tremaining: 15s\n",
      "265:\tlearn: 0.2573500\ttest: 0.2655481\tbest: 0.2655481 (265)\ttotal: 5.43s\tremaining: 15s\n",
      "266:\tlearn: 0.2572725\ttest: 0.2655357\tbest: 0.2655357 (266)\ttotal: 5.45s\tremaining: 15s\n",
      "267:\tlearn: 0.2572483\ttest: 0.2655272\tbest: 0.2655272 (267)\ttotal: 5.47s\tremaining: 14.9s\n",
      "268:\tlearn: 0.2570809\ttest: 0.2654777\tbest: 0.2654777 (268)\ttotal: 5.49s\tremaining: 14.9s\n",
      "269:\tlearn: 0.2570311\ttest: 0.2655019\tbest: 0.2654777 (268)\ttotal: 5.51s\tremaining: 14.9s\n",
      "270:\tlearn: 0.2569103\ttest: 0.2654080\tbest: 0.2654080 (270)\ttotal: 5.53s\tremaining: 14.9s\n",
      "271:\tlearn: 0.2568624\ttest: 0.2653987\tbest: 0.2653987 (271)\ttotal: 5.55s\tremaining: 14.9s\n",
      "272:\tlearn: 0.2567491\ttest: 0.2653224\tbest: 0.2653224 (272)\ttotal: 5.57s\tremaining: 14.8s\n",
      "273:\tlearn: 0.2566531\ttest: 0.2652934\tbest: 0.2652934 (273)\ttotal: 5.59s\tremaining: 14.8s\n",
      "274:\tlearn: 0.2565392\ttest: 0.2652564\tbest: 0.2652564 (274)\ttotal: 5.61s\tremaining: 14.8s\n",
      "275:\tlearn: 0.2564470\ttest: 0.2652846\tbest: 0.2652564 (274)\ttotal: 5.63s\tremaining: 14.8s\n",
      "276:\tlearn: 0.2563705\ttest: 0.2652555\tbest: 0.2652555 (276)\ttotal: 5.65s\tremaining: 14.8s\n",
      "277:\tlearn: 0.2562225\ttest: 0.2652932\tbest: 0.2652555 (276)\ttotal: 5.67s\tremaining: 14.7s\n",
      "278:\tlearn: 0.2561753\ttest: 0.2653063\tbest: 0.2652555 (276)\ttotal: 5.69s\tremaining: 14.7s\n",
      "279:\tlearn: 0.2561282\ttest: 0.2652993\tbest: 0.2652555 (276)\ttotal: 5.71s\tremaining: 14.7s\n",
      "280:\tlearn: 0.2560280\ttest: 0.2652520\tbest: 0.2652520 (280)\ttotal: 5.73s\tremaining: 14.7s\n",
      "281:\tlearn: 0.2559592\ttest: 0.2652636\tbest: 0.2652520 (280)\ttotal: 5.75s\tremaining: 14.6s\n",
      "282:\tlearn: 0.2559274\ttest: 0.2652570\tbest: 0.2652520 (280)\ttotal: 5.77s\tremaining: 14.6s\n",
      "283:\tlearn: 0.2559119\ttest: 0.2652308\tbest: 0.2652308 (283)\ttotal: 5.79s\tremaining: 14.6s\n",
      "284:\tlearn: 0.2558038\ttest: 0.2652274\tbest: 0.2652274 (284)\ttotal: 5.81s\tremaining: 14.6s\n",
      "285:\tlearn: 0.2557456\ttest: 0.2651827\tbest: 0.2651827 (285)\ttotal: 5.83s\tremaining: 14.6s\n",
      "286:\tlearn: 0.2556711\ttest: 0.2652103\tbest: 0.2651827 (285)\ttotal: 5.85s\tremaining: 14.5s\n",
      "287:\tlearn: 0.2555719\ttest: 0.2652113\tbest: 0.2651827 (285)\ttotal: 5.87s\tremaining: 14.5s\n",
      "288:\tlearn: 0.2555013\ttest: 0.2652399\tbest: 0.2651827 (285)\ttotal: 5.89s\tremaining: 14.5s\n",
      "289:\tlearn: 0.2554734\ttest: 0.2652206\tbest: 0.2651827 (285)\ttotal: 5.91s\tremaining: 14.5s\n",
      "290:\tlearn: 0.2553750\ttest: 0.2651490\tbest: 0.2651490 (290)\ttotal: 5.93s\tremaining: 14.4s\n",
      "291:\tlearn: 0.2552743\ttest: 0.2651500\tbest: 0.2651490 (290)\ttotal: 5.95s\tremaining: 14.4s\n",
      "292:\tlearn: 0.2552473\ttest: 0.2651195\tbest: 0.2651195 (292)\ttotal: 5.97s\tremaining: 14.4s\n",
      "293:\tlearn: 0.2551504\ttest: 0.2651429\tbest: 0.2651195 (292)\ttotal: 5.99s\tremaining: 14.4s\n",
      "294:\tlearn: 0.2550901\ttest: 0.2650917\tbest: 0.2650917 (294)\ttotal: 6.01s\tremaining: 14.4s\n",
      "295:\tlearn: 0.2550825\ttest: 0.2650908\tbest: 0.2650908 (295)\ttotal: 6.03s\tremaining: 14.3s\n",
      "296:\tlearn: 0.2550433\ttest: 0.2650826\tbest: 0.2650826 (296)\ttotal: 6.05s\tremaining: 14.3s\n",
      "297:\tlearn: 0.2549221\ttest: 0.2650771\tbest: 0.2650771 (297)\ttotal: 6.07s\tremaining: 14.3s\n",
      "298:\tlearn: 0.2549031\ttest: 0.2650784\tbest: 0.2650771 (297)\ttotal: 6.09s\tremaining: 14.3s\n",
      "299:\tlearn: 0.2548239\ttest: 0.2651321\tbest: 0.2650771 (297)\ttotal: 6.11s\tremaining: 14.3s\n",
      "300:\tlearn: 0.2547957\ttest: 0.2651568\tbest: 0.2650771 (297)\ttotal: 6.13s\tremaining: 14.2s\n",
      "301:\tlearn: 0.2547470\ttest: 0.2651285\tbest: 0.2650771 (297)\ttotal: 6.15s\tremaining: 14.2s\n",
      "302:\tlearn: 0.2546446\ttest: 0.2650689\tbest: 0.2650689 (302)\ttotal: 6.17s\tremaining: 14.2s\n",
      "303:\tlearn: 0.2545652\ttest: 0.2650452\tbest: 0.2650452 (303)\ttotal: 6.2s\tremaining: 14.2s\n",
      "304:\tlearn: 0.2545060\ttest: 0.2650211\tbest: 0.2650211 (304)\ttotal: 6.22s\tremaining: 14.2s\n",
      "305:\tlearn: 0.2544439\ttest: 0.2650031\tbest: 0.2650031 (305)\ttotal: 6.24s\tremaining: 14.2s\n",
      "306:\tlearn: 0.2543371\ttest: 0.2649001\tbest: 0.2649001 (306)\ttotal: 6.26s\tremaining: 14.1s\n",
      "307:\tlearn: 0.2542129\ttest: 0.2649305\tbest: 0.2649001 (306)\ttotal: 6.28s\tremaining: 14.1s\n",
      "308:\tlearn: 0.2541433\ttest: 0.2649131\tbest: 0.2649001 (306)\ttotal: 6.3s\tremaining: 14.1s\n",
      "309:\tlearn: 0.2540318\ttest: 0.2648026\tbest: 0.2648026 (309)\ttotal: 6.32s\tremaining: 14.1s\n",
      "310:\tlearn: 0.2539641\ttest: 0.2647584\tbest: 0.2647584 (310)\ttotal: 6.34s\tremaining: 14.1s\n",
      "311:\tlearn: 0.2539219\ttest: 0.2647738\tbest: 0.2647584 (310)\ttotal: 6.37s\tremaining: 14s\n",
      "312:\tlearn: 0.2538689\ttest: 0.2647644\tbest: 0.2647584 (310)\ttotal: 6.39s\tremaining: 14s\n",
      "313:\tlearn: 0.2538024\ttest: 0.2648062\tbest: 0.2647584 (310)\ttotal: 6.41s\tremaining: 14s\n",
      "314:\tlearn: 0.2537449\ttest: 0.2647845\tbest: 0.2647584 (310)\ttotal: 6.43s\tremaining: 14s\n",
      "315:\tlearn: 0.2536985\ttest: 0.2647475\tbest: 0.2647475 (315)\ttotal: 6.45s\tremaining: 14s\n",
      "316:\tlearn: 0.2536677\ttest: 0.2648093\tbest: 0.2647475 (315)\ttotal: 6.47s\tremaining: 13.9s\n",
      "317:\tlearn: 0.2535990\ttest: 0.2648096\tbest: 0.2647475 (315)\ttotal: 6.49s\tremaining: 13.9s\n",
      "318:\tlearn: 0.2534681\ttest: 0.2648075\tbest: 0.2647475 (315)\ttotal: 6.51s\tremaining: 13.9s\n",
      "319:\tlearn: 0.2533905\ttest: 0.2647517\tbest: 0.2647475 (315)\ttotal: 6.54s\tremaining: 13.9s\n",
      "320:\tlearn: 0.2532580\ttest: 0.2647925\tbest: 0.2647475 (315)\ttotal: 6.55s\tremaining: 13.9s\n",
      "321:\tlearn: 0.2531680\ttest: 0.2648190\tbest: 0.2647475 (315)\ttotal: 6.58s\tremaining: 13.8s\n",
      "322:\tlearn: 0.2531009\ttest: 0.2647529\tbest: 0.2647475 (315)\ttotal: 6.59s\tremaining: 13.8s\n",
      "323:\tlearn: 0.2530567\ttest: 0.2647697\tbest: 0.2647475 (315)\ttotal: 6.62s\tremaining: 13.8s\n",
      "324:\tlearn: 0.2529108\ttest: 0.2646755\tbest: 0.2646755 (324)\ttotal: 6.63s\tremaining: 13.8s\n",
      "325:\tlearn: 0.2528315\ttest: 0.2647117\tbest: 0.2646755 (324)\ttotal: 6.65s\tremaining: 13.8s\n",
      "326:\tlearn: 0.2527428\ttest: 0.2647095\tbest: 0.2646755 (324)\ttotal: 6.67s\tremaining: 13.7s\n",
      "327:\tlearn: 0.2527285\ttest: 0.2646962\tbest: 0.2646755 (324)\ttotal: 6.7s\tremaining: 13.7s\n",
      "328:\tlearn: 0.2526883\ttest: 0.2646997\tbest: 0.2646755 (324)\ttotal: 6.71s\tremaining: 13.7s\n",
      "329:\tlearn: 0.2525961\ttest: 0.2646822\tbest: 0.2646755 (324)\ttotal: 6.73s\tremaining: 13.7s\n",
      "330:\tlearn: 0.2525373\ttest: 0.2646803\tbest: 0.2646755 (324)\ttotal: 6.75s\tremaining: 13.7s\n",
      "331:\tlearn: 0.2524698\ttest: 0.2646804\tbest: 0.2646755 (324)\ttotal: 6.78s\tremaining: 13.6s\n",
      "332:\tlearn: 0.2524337\ttest: 0.2646917\tbest: 0.2646755 (324)\ttotal: 6.8s\tremaining: 13.6s\n",
      "333:\tlearn: 0.2523287\ttest: 0.2646741\tbest: 0.2646741 (333)\ttotal: 6.82s\tremaining: 13.6s\n",
      "334:\tlearn: 0.2521494\ttest: 0.2646475\tbest: 0.2646475 (334)\ttotal: 6.84s\tremaining: 13.6s\n",
      "335:\tlearn: 0.2521244\ttest: 0.2646683\tbest: 0.2646475 (334)\ttotal: 6.86s\tremaining: 13.5s\n",
      "336:\tlearn: 0.2519756\ttest: 0.2646079\tbest: 0.2646079 (336)\ttotal: 6.88s\tremaining: 13.5s\n",
      "337:\tlearn: 0.2518956\ttest: 0.2646449\tbest: 0.2646079 (336)\ttotal: 6.89s\tremaining: 13.5s\n",
      "338:\tlearn: 0.2518545\ttest: 0.2646574\tbest: 0.2646079 (336)\ttotal: 6.91s\tremaining: 13.5s\n",
      "339:\tlearn: 0.2518142\ttest: 0.2646610\tbest: 0.2646079 (336)\ttotal: 6.93s\tremaining: 13.5s\n",
      "340:\tlearn: 0.2518046\ttest: 0.2646619\tbest: 0.2646079 (336)\ttotal: 6.95s\tremaining: 13.4s\n",
      "341:\tlearn: 0.2517763\ttest: 0.2647253\tbest: 0.2646079 (336)\ttotal: 6.97s\tremaining: 13.4s\n",
      "342:\tlearn: 0.2517436\ttest: 0.2647356\tbest: 0.2646079 (336)\ttotal: 6.99s\tremaining: 13.4s\n",
      "343:\tlearn: 0.2516755\ttest: 0.2647398\tbest: 0.2646079 (336)\ttotal: 7.01s\tremaining: 13.4s\n",
      "344:\tlearn: 0.2516231\ttest: 0.2647394\tbest: 0.2646079 (336)\ttotal: 7.03s\tremaining: 13.3s\n",
      "345:\tlearn: 0.2515946\ttest: 0.2647443\tbest: 0.2646079 (336)\ttotal: 7.05s\tremaining: 13.3s\n",
      "346:\tlearn: 0.2515259\ttest: 0.2647103\tbest: 0.2646079 (336)\ttotal: 7.07s\tremaining: 13.3s\n",
      "347:\tlearn: 0.2515106\ttest: 0.2647050\tbest: 0.2646079 (336)\ttotal: 7.09s\tremaining: 13.3s\n",
      "348:\tlearn: 0.2514077\ttest: 0.2646974\tbest: 0.2646079 (336)\ttotal: 7.11s\tremaining: 13.3s\n",
      "349:\tlearn: 0.2513602\ttest: 0.2646939\tbest: 0.2646079 (336)\ttotal: 7.13s\tremaining: 13.2s\n",
      "350:\tlearn: 0.2512411\ttest: 0.2647007\tbest: 0.2646079 (336)\ttotal: 7.15s\tremaining: 13.2s\n",
      "351:\tlearn: 0.2511347\ttest: 0.2646706\tbest: 0.2646079 (336)\ttotal: 7.17s\tremaining: 13.2s\n",
      "352:\tlearn: 0.2510640\ttest: 0.2646384\tbest: 0.2646079 (336)\ttotal: 7.19s\tremaining: 13.2s\n",
      "353:\tlearn: 0.2509882\ttest: 0.2645920\tbest: 0.2645920 (353)\ttotal: 7.21s\tremaining: 13.2s\n",
      "354:\tlearn: 0.2509098\ttest: 0.2645572\tbest: 0.2645572 (354)\ttotal: 7.23s\tremaining: 13.1s\n",
      "355:\tlearn: 0.2507464\ttest: 0.2645302\tbest: 0.2645302 (355)\ttotal: 7.25s\tremaining: 13.1s\n",
      "356:\tlearn: 0.2506825\ttest: 0.2645161\tbest: 0.2645161 (356)\ttotal: 7.27s\tremaining: 13.1s\n",
      "357:\tlearn: 0.2506400\ttest: 0.2645348\tbest: 0.2645161 (356)\ttotal: 7.29s\tremaining: 13.1s\n",
      "358:\tlearn: 0.2506095\ttest: 0.2644903\tbest: 0.2644903 (358)\ttotal: 7.31s\tremaining: 13.1s\n",
      "359:\tlearn: 0.2505143\ttest: 0.2644956\tbest: 0.2644903 (358)\ttotal: 7.33s\tremaining: 13s\n",
      "360:\tlearn: 0.2505046\ttest: 0.2644994\tbest: 0.2644903 (358)\ttotal: 7.35s\tremaining: 13s\n",
      "361:\tlearn: 0.2504731\ttest: 0.2645034\tbest: 0.2644903 (358)\ttotal: 7.37s\tremaining: 13s\n",
      "362:\tlearn: 0.2504154\ttest: 0.2645342\tbest: 0.2644903 (358)\ttotal: 7.39s\tremaining: 13s\n",
      "363:\tlearn: 0.2503059\ttest: 0.2646229\tbest: 0.2644903 (358)\ttotal: 7.41s\tremaining: 13s\n",
      "364:\tlearn: 0.2502432\ttest: 0.2646214\tbest: 0.2644903 (358)\ttotal: 7.43s\tremaining: 12.9s\n",
      "365:\tlearn: 0.2501803\ttest: 0.2646206\tbest: 0.2644903 (358)\ttotal: 7.46s\tremaining: 12.9s\n",
      "366:\tlearn: 0.2501353\ttest: 0.2646286\tbest: 0.2644903 (358)\ttotal: 7.48s\tremaining: 12.9s\n",
      "367:\tlearn: 0.2500640\ttest: 0.2646089\tbest: 0.2644903 (358)\ttotal: 7.5s\tremaining: 12.9s\n",
      "368:\tlearn: 0.2500397\ttest: 0.2645949\tbest: 0.2644903 (358)\ttotal: 7.52s\tremaining: 12.9s\n",
      "369:\tlearn: 0.2499535\ttest: 0.2645802\tbest: 0.2644903 (358)\ttotal: 7.54s\tremaining: 12.8s\n",
      "370:\tlearn: 0.2498504\ttest: 0.2645913\tbest: 0.2644903 (358)\ttotal: 7.56s\tremaining: 12.8s\n",
      "371:\tlearn: 0.2497941\ttest: 0.2645742\tbest: 0.2644903 (358)\ttotal: 7.58s\tremaining: 12.8s\n",
      "372:\tlearn: 0.2497183\ttest: 0.2645299\tbest: 0.2644903 (358)\ttotal: 7.6s\tremaining: 12.8s\n",
      "373:\tlearn: 0.2496661\ttest: 0.2645654\tbest: 0.2644903 (358)\ttotal: 7.62s\tremaining: 12.8s\n",
      "374:\tlearn: 0.2495881\ttest: 0.2645049\tbest: 0.2644903 (358)\ttotal: 7.64s\tremaining: 12.7s\n",
      "375:\tlearn: 0.2495676\ttest: 0.2645243\tbest: 0.2644903 (358)\ttotal: 7.66s\tremaining: 12.7s\n",
      "376:\tlearn: 0.2495194\ttest: 0.2645388\tbest: 0.2644903 (358)\ttotal: 7.68s\tremaining: 12.7s\n",
      "377:\tlearn: 0.2494290\ttest: 0.2645421\tbest: 0.2644903 (358)\ttotal: 7.7s\tremaining: 12.7s\n",
      "378:\tlearn: 0.2493872\ttest: 0.2645118\tbest: 0.2644903 (358)\ttotal: 7.72s\tremaining: 12.7s\n",
      "379:\tlearn: 0.2493287\ttest: 0.2644809\tbest: 0.2644809 (379)\ttotal: 7.74s\tremaining: 12.6s\n",
      "380:\tlearn: 0.2492567\ttest: 0.2644508\tbest: 0.2644508 (380)\ttotal: 7.76s\tremaining: 12.6s\n",
      "381:\tlearn: 0.2492315\ttest: 0.2644665\tbest: 0.2644508 (380)\ttotal: 7.79s\tremaining: 12.6s\n",
      "382:\tlearn: 0.2491617\ttest: 0.2644645\tbest: 0.2644508 (380)\ttotal: 7.8s\tremaining: 12.6s\n",
      "383:\tlearn: 0.2491269\ttest: 0.2644639\tbest: 0.2644508 (380)\ttotal: 7.82s\tremaining: 12.6s\n",
      "384:\tlearn: 0.2490755\ttest: 0.2644584\tbest: 0.2644508 (380)\ttotal: 7.84s\tremaining: 12.5s\n",
      "385:\tlearn: 0.2490049\ttest: 0.2644032\tbest: 0.2644032 (385)\ttotal: 7.86s\tremaining: 12.5s\n",
      "386:\tlearn: 0.2489956\ttest: 0.2643875\tbest: 0.2643875 (386)\ttotal: 7.88s\tremaining: 12.5s\n",
      "387:\tlearn: 0.2489163\ttest: 0.2643691\tbest: 0.2643691 (387)\ttotal: 7.9s\tremaining: 12.5s\n",
      "388:\tlearn: 0.2488296\ttest: 0.2643271\tbest: 0.2643271 (388)\ttotal: 7.92s\tremaining: 12.4s\n",
      "389:\tlearn: 0.2487853\ttest: 0.2643337\tbest: 0.2643271 (388)\ttotal: 7.95s\tremaining: 12.4s\n",
      "390:\tlearn: 0.2487723\ttest: 0.2643290\tbest: 0.2643271 (388)\ttotal: 7.96s\tremaining: 12.4s\n",
      "391:\tlearn: 0.2487604\ttest: 0.2643188\tbest: 0.2643188 (391)\ttotal: 7.98s\tremaining: 12.4s\n",
      "392:\tlearn: 0.2486567\ttest: 0.2643625\tbest: 0.2643188 (391)\ttotal: 8s\tremaining: 12.4s\n",
      "393:\tlearn: 0.2485776\ttest: 0.2643651\tbest: 0.2643188 (391)\ttotal: 8.02s\tremaining: 12.3s\n",
      "394:\tlearn: 0.2484484\ttest: 0.2644120\tbest: 0.2643188 (391)\ttotal: 8.04s\tremaining: 12.3s\n",
      "395:\tlearn: 0.2483614\ttest: 0.2643887\tbest: 0.2643188 (391)\ttotal: 8.06s\tremaining: 12.3s\n",
      "396:\tlearn: 0.2483031\ttest: 0.2644101\tbest: 0.2643188 (391)\ttotal: 8.09s\tremaining: 12.3s\n",
      "397:\tlearn: 0.2482304\ttest: 0.2643336\tbest: 0.2643188 (391)\ttotal: 8.11s\tremaining: 12.3s\n",
      "398:\tlearn: 0.2482034\ttest: 0.2643394\tbest: 0.2643188 (391)\ttotal: 8.13s\tremaining: 12.2s\n",
      "399:\tlearn: 0.2481485\ttest: 0.2643724\tbest: 0.2643188 (391)\ttotal: 8.15s\tremaining: 12.2s\n",
      "400:\tlearn: 0.2481043\ttest: 0.2643850\tbest: 0.2643188 (391)\ttotal: 8.17s\tremaining: 12.2s\n",
      "401:\tlearn: 0.2480738\ttest: 0.2643541\tbest: 0.2643188 (391)\ttotal: 8.19s\tremaining: 12.2s\n",
      "402:\tlearn: 0.2480312\ttest: 0.2643200\tbest: 0.2643188 (391)\ttotal: 8.21s\tremaining: 12.2s\n",
      "403:\tlearn: 0.2479862\ttest: 0.2643183\tbest: 0.2643183 (403)\ttotal: 8.23s\tremaining: 12.1s\n",
      "404:\tlearn: 0.2478986\ttest: 0.2642874\tbest: 0.2642874 (404)\ttotal: 8.25s\tremaining: 12.1s\n",
      "405:\tlearn: 0.2478742\ttest: 0.2642883\tbest: 0.2642874 (404)\ttotal: 8.27s\tremaining: 12.1s\n",
      "406:\tlearn: 0.2478448\ttest: 0.2643005\tbest: 0.2642874 (404)\ttotal: 8.29s\tremaining: 12.1s\n",
      "407:\tlearn: 0.2478155\ttest: 0.2643321\tbest: 0.2642874 (404)\ttotal: 8.32s\tremaining: 12.1s\n",
      "408:\tlearn: 0.2477244\ttest: 0.2642974\tbest: 0.2642874 (404)\ttotal: 8.34s\tremaining: 12s\n",
      "409:\tlearn: 0.2476219\ttest: 0.2642496\tbest: 0.2642496 (409)\ttotal: 8.36s\tremaining: 12s\n",
      "410:\tlearn: 0.2475328\ttest: 0.2642302\tbest: 0.2642302 (410)\ttotal: 8.38s\tremaining: 12s\n",
      "411:\tlearn: 0.2474528\ttest: 0.2641956\tbest: 0.2641956 (411)\ttotal: 8.4s\tremaining: 12s\n",
      "412:\tlearn: 0.2474160\ttest: 0.2641753\tbest: 0.2641753 (412)\ttotal: 8.43s\tremaining: 12s\n",
      "413:\tlearn: 0.2473526\ttest: 0.2641625\tbest: 0.2641625 (413)\ttotal: 8.45s\tremaining: 12s\n",
      "414:\tlearn: 0.2472510\ttest: 0.2642099\tbest: 0.2641625 (413)\ttotal: 8.47s\tremaining: 11.9s\n",
      "415:\tlearn: 0.2472393\ttest: 0.2642226\tbest: 0.2641625 (413)\ttotal: 8.49s\tremaining: 11.9s\n",
      "416:\tlearn: 0.2471821\ttest: 0.2641879\tbest: 0.2641625 (413)\ttotal: 8.51s\tremaining: 11.9s\n",
      "417:\tlearn: 0.2470596\ttest: 0.2642162\tbest: 0.2641625 (413)\ttotal: 8.53s\tremaining: 11.9s\n",
      "418:\tlearn: 0.2470024\ttest: 0.2642161\tbest: 0.2641625 (413)\ttotal: 8.55s\tremaining: 11.9s\n",
      "419:\tlearn: 0.2469223\ttest: 0.2642761\tbest: 0.2641625 (413)\ttotal: 8.58s\tremaining: 11.8s\n",
      "420:\tlearn: 0.2468432\ttest: 0.2642394\tbest: 0.2641625 (413)\ttotal: 8.6s\tremaining: 11.8s\n",
      "421:\tlearn: 0.2468045\ttest: 0.2642615\tbest: 0.2641625 (413)\ttotal: 8.62s\tremaining: 11.8s\n",
      "422:\tlearn: 0.2467747\ttest: 0.2642776\tbest: 0.2641625 (413)\ttotal: 8.64s\tremaining: 11.8s\n",
      "423:\tlearn: 0.2467574\ttest: 0.2642884\tbest: 0.2641625 (413)\ttotal: 8.66s\tremaining: 11.8s\n",
      "424:\tlearn: 0.2467326\ttest: 0.2642901\tbest: 0.2641625 (413)\ttotal: 8.68s\tremaining: 11.7s\n",
      "425:\tlearn: 0.2466976\ttest: 0.2643094\tbest: 0.2641625 (413)\ttotal: 8.7s\tremaining: 11.7s\n",
      "426:\tlearn: 0.2466267\ttest: 0.2643540\tbest: 0.2641625 (413)\ttotal: 8.72s\tremaining: 11.7s\n",
      "427:\tlearn: 0.2465462\ttest: 0.2643012\tbest: 0.2641625 (413)\ttotal: 8.74s\tremaining: 11.7s\n",
      "428:\tlearn: 0.2464831\ttest: 0.2642301\tbest: 0.2641625 (413)\ttotal: 8.76s\tremaining: 11.7s\n",
      "429:\tlearn: 0.2464544\ttest: 0.2642231\tbest: 0.2641625 (413)\ttotal: 8.79s\tremaining: 11.6s\n",
      "430:\tlearn: 0.2464180\ttest: 0.2642524\tbest: 0.2641625 (413)\ttotal: 8.81s\tremaining: 11.6s\n",
      "431:\tlearn: 0.2463573\ttest: 0.2642252\tbest: 0.2641625 (413)\ttotal: 8.83s\tremaining: 11.6s\n",
      "432:\tlearn: 0.2463211\ttest: 0.2641893\tbest: 0.2641625 (413)\ttotal: 8.85s\tremaining: 11.6s\n",
      "433:\tlearn: 0.2463069\ttest: 0.2642096\tbest: 0.2641625 (413)\ttotal: 8.87s\tremaining: 11.6s\n",
      "434:\tlearn: 0.2462800\ttest: 0.2642376\tbest: 0.2641625 (413)\ttotal: 8.9s\tremaining: 11.6s\n",
      "435:\tlearn: 0.2462547\ttest: 0.2642119\tbest: 0.2641625 (413)\ttotal: 8.92s\tremaining: 11.5s\n",
      "436:\tlearn: 0.2461864\ttest: 0.2642196\tbest: 0.2641625 (413)\ttotal: 8.94s\tremaining: 11.5s\n",
      "437:\tlearn: 0.2461380\ttest: 0.2642225\tbest: 0.2641625 (413)\ttotal: 8.97s\tremaining: 11.5s\n",
      "438:\tlearn: 0.2460883\ttest: 0.2642131\tbest: 0.2641625 (413)\ttotal: 8.99s\tremaining: 11.5s\n",
      "439:\tlearn: 0.2460171\ttest: 0.2642364\tbest: 0.2641625 (413)\ttotal: 9.01s\tremaining: 11.5s\n",
      "440:\tlearn: 0.2459878\ttest: 0.2642619\tbest: 0.2641625 (413)\ttotal: 9.03s\tremaining: 11.4s\n",
      "441:\tlearn: 0.2458945\ttest: 0.2643348\tbest: 0.2641625 (413)\ttotal: 9.06s\tremaining: 11.4s\n",
      "442:\tlearn: 0.2458667\ttest: 0.2643281\tbest: 0.2641625 (413)\ttotal: 9.08s\tremaining: 11.4s\n",
      "443:\tlearn: 0.2458163\ttest: 0.2643248\tbest: 0.2641625 (413)\ttotal: 9.1s\tremaining: 11.4s\n",
      "444:\tlearn: 0.2457244\ttest: 0.2642355\tbest: 0.2641625 (413)\ttotal: 9.12s\tremaining: 11.4s\n",
      "445:\tlearn: 0.2456870\ttest: 0.2642445\tbest: 0.2641625 (413)\ttotal: 9.14s\tremaining: 11.4s\n",
      "446:\tlearn: 0.2456849\ttest: 0.2642445\tbest: 0.2641625 (413)\ttotal: 9.16s\tremaining: 11.3s\n",
      "447:\tlearn: 0.2456167\ttest: 0.2642389\tbest: 0.2641625 (413)\ttotal: 9.19s\tremaining: 11.3s\n",
      "448:\tlearn: 0.2455199\ttest: 0.2641737\tbest: 0.2641625 (413)\ttotal: 9.21s\tremaining: 11.3s\n",
      "449:\tlearn: 0.2454696\ttest: 0.2641294\tbest: 0.2641294 (449)\ttotal: 9.23s\tremaining: 11.3s\n",
      "450:\tlearn: 0.2453542\ttest: 0.2641006\tbest: 0.2641006 (450)\ttotal: 9.25s\tremaining: 11.3s\n",
      "451:\tlearn: 0.2452737\ttest: 0.2641167\tbest: 0.2641006 (450)\ttotal: 9.27s\tremaining: 11.2s\n",
      "452:\tlearn: 0.2452370\ttest: 0.2641401\tbest: 0.2641006 (450)\ttotal: 9.29s\tremaining: 11.2s\n",
      "453:\tlearn: 0.2451074\ttest: 0.2641906\tbest: 0.2641006 (450)\ttotal: 9.31s\tremaining: 11.2s\n",
      "454:\tlearn: 0.2450436\ttest: 0.2642054\tbest: 0.2641006 (450)\ttotal: 9.34s\tremaining: 11.2s\n",
      "455:\tlearn: 0.2449641\ttest: 0.2642026\tbest: 0.2641006 (450)\ttotal: 9.36s\tremaining: 11.2s\n",
      "456:\tlearn: 0.2448795\ttest: 0.2642422\tbest: 0.2641006 (450)\ttotal: 9.38s\tremaining: 11.1s\n",
      "457:\tlearn: 0.2447898\ttest: 0.2642260\tbest: 0.2641006 (450)\ttotal: 9.4s\tremaining: 11.1s\n",
      "458:\tlearn: 0.2447042\ttest: 0.2641829\tbest: 0.2641006 (450)\ttotal: 9.43s\tremaining: 11.1s\n",
      "459:\tlearn: 0.2446472\ttest: 0.2641876\tbest: 0.2641006 (450)\ttotal: 9.45s\tremaining: 11.1s\n",
      "460:\tlearn: 0.2446033\ttest: 0.2641550\tbest: 0.2641006 (450)\ttotal: 9.47s\tremaining: 11.1s\n",
      "461:\tlearn: 0.2445460\ttest: 0.2642381\tbest: 0.2641006 (450)\ttotal: 9.49s\tremaining: 11.1s\n",
      "462:\tlearn: 0.2444274\ttest: 0.2642744\tbest: 0.2641006 (450)\ttotal: 9.51s\tremaining: 11s\n",
      "463:\tlearn: 0.2443882\ttest: 0.2643119\tbest: 0.2641006 (450)\ttotal: 9.53s\tremaining: 11s\n",
      "464:\tlearn: 0.2443179\ttest: 0.2642853\tbest: 0.2641006 (450)\ttotal: 9.56s\tremaining: 11s\n",
      "465:\tlearn: 0.2442952\ttest: 0.2642857\tbest: 0.2641006 (450)\ttotal: 9.58s\tremaining: 11s\n",
      "466:\tlearn: 0.2442603\ttest: 0.2642720\tbest: 0.2641006 (450)\ttotal: 9.6s\tremaining: 11s\n",
      "467:\tlearn: 0.2441251\ttest: 0.2643591\tbest: 0.2641006 (450)\ttotal: 9.62s\tremaining: 10.9s\n",
      "468:\tlearn: 0.2440881\ttest: 0.2643421\tbest: 0.2641006 (450)\ttotal: 9.65s\tremaining: 10.9s\n",
      "469:\tlearn: 0.2440341\ttest: 0.2643709\tbest: 0.2641006 (450)\ttotal: 9.66s\tremaining: 10.9s\n",
      "470:\tlearn: 0.2439388\ttest: 0.2643500\tbest: 0.2641006 (450)\ttotal: 9.69s\tremaining: 10.9s\n",
      "471:\tlearn: 0.2438251\ttest: 0.2644217\tbest: 0.2641006 (450)\ttotal: 9.71s\tremaining: 10.9s\n",
      "472:\tlearn: 0.2437682\ttest: 0.2644170\tbest: 0.2641006 (450)\ttotal: 9.73s\tremaining: 10.8s\n",
      "473:\tlearn: 0.2437251\ttest: 0.2644251\tbest: 0.2641006 (450)\ttotal: 9.75s\tremaining: 10.8s\n",
      "474:\tlearn: 0.2436934\ttest: 0.2644204\tbest: 0.2641006 (450)\ttotal: 9.77s\tremaining: 10.8s\n",
      "475:\tlearn: 0.2435813\ttest: 0.2643753\tbest: 0.2641006 (450)\ttotal: 9.8s\tremaining: 10.8s\n",
      "476:\tlearn: 0.2435061\ttest: 0.2643660\tbest: 0.2641006 (450)\ttotal: 9.82s\tremaining: 10.8s\n",
      "477:\tlearn: 0.2434202\ttest: 0.2643790\tbest: 0.2641006 (450)\ttotal: 9.84s\tremaining: 10.8s\n",
      "478:\tlearn: 0.2433626\ttest: 0.2643973\tbest: 0.2641006 (450)\ttotal: 9.87s\tremaining: 10.7s\n",
      "479:\tlearn: 0.2432772\ttest: 0.2643480\tbest: 0.2641006 (450)\ttotal: 9.89s\tremaining: 10.7s\n",
      "480:\tlearn: 0.2431742\ttest: 0.2643606\tbest: 0.2641006 (450)\ttotal: 9.9s\tremaining: 10.7s\n",
      "481:\tlearn: 0.2431136\ttest: 0.2643383\tbest: 0.2641006 (450)\ttotal: 9.93s\tremaining: 10.7s\n",
      "482:\tlearn: 0.2430749\ttest: 0.2643112\tbest: 0.2641006 (450)\ttotal: 9.95s\tremaining: 10.6s\n",
      "483:\tlearn: 0.2430192\ttest: 0.2643281\tbest: 0.2641006 (450)\ttotal: 9.97s\tremaining: 10.6s\n",
      "484:\tlearn: 0.2428661\ttest: 0.2643424\tbest: 0.2641006 (450)\ttotal: 9.99s\tremaining: 10.6s\n",
      "485:\tlearn: 0.2428139\ttest: 0.2644052\tbest: 0.2641006 (450)\ttotal: 10s\tremaining: 10.6s\n",
      "486:\tlearn: 0.2427223\ttest: 0.2643637\tbest: 0.2641006 (450)\ttotal: 10s\tremaining: 10.6s\n",
      "487:\tlearn: 0.2426613\ttest: 0.2643430\tbest: 0.2641006 (450)\ttotal: 10.1s\tremaining: 10.5s\n",
      "488:\tlearn: 0.2426110\ttest: 0.2643690\tbest: 0.2641006 (450)\ttotal: 10.1s\tremaining: 10.5s\n",
      "489:\tlearn: 0.2425980\ttest: 0.2643912\tbest: 0.2641006 (450)\ttotal: 10.1s\tremaining: 10.5s\n",
      "490:\tlearn: 0.2425097\ttest: 0.2643918\tbest: 0.2641006 (450)\ttotal: 10.1s\tremaining: 10.5s\n",
      "491:\tlearn: 0.2424674\ttest: 0.2644202\tbest: 0.2641006 (450)\ttotal: 10.1s\tremaining: 10.5s\n",
      "492:\tlearn: 0.2423917\ttest: 0.2644494\tbest: 0.2641006 (450)\ttotal: 10.2s\tremaining: 10.4s\n",
      "493:\tlearn: 0.2423715\ttest: 0.2644122\tbest: 0.2641006 (450)\ttotal: 10.2s\tremaining: 10.4s\n",
      "494:\tlearn: 0.2422014\ttest: 0.2644421\tbest: 0.2641006 (450)\ttotal: 10.2s\tremaining: 10.4s\n",
      "495:\tlearn: 0.2421408\ttest: 0.2644653\tbest: 0.2641006 (450)\ttotal: 10.2s\tremaining: 10.4s\n",
      "496:\tlearn: 0.2420168\ttest: 0.2644380\tbest: 0.2641006 (450)\ttotal: 10.2s\tremaining: 10.4s\n",
      "497:\tlearn: 0.2419884\ttest: 0.2644288\tbest: 0.2641006 (450)\ttotal: 10.3s\tremaining: 10.4s\n",
      "498:\tlearn: 0.2419143\ttest: 0.2644607\tbest: 0.2641006 (450)\ttotal: 10.3s\tremaining: 10.3s\n",
      "499:\tlearn: 0.2418712\ttest: 0.2644397\tbest: 0.2641006 (450)\ttotal: 10.3s\tremaining: 10.3s\n",
      "500:\tlearn: 0.2418171\ttest: 0.2644151\tbest: 0.2641006 (450)\ttotal: 10.3s\tremaining: 10.3s\n",
      "Stopped by overfitting detector  (50 iterations wait)\n",
      "\n",
      "bestTest = 0.2641005779\n",
      "bestIteration = 450\n",
      "\n",
      "Shrink model to first 451 iterations.\n"
     ]
    },
    {
     "data": {
      "text/plain": [
       "<catboost.core.CatBoostClassifier at 0x7fc92f6e6a10>"
      ]
     },
     "execution_count": 16,
     "metadata": {},
     "output_type": "execute_result"
    }
   ],
   "source": [
    "clf = CatBoostClassifier()\n",
    "clf.fit(\n",
    "    df_X_train, y_train,\n",
    "    eval_set=[(df_X_valid, y_valid)],\n",
    "    cat_features=cat_idxs,\n",
    "    early_stopping_rounds=50,\n",
    ")"
   ]
  },
  {
   "cell_type": "code",
   "execution_count": 17,
   "id": "4356c777-70c6-4ff2-8633-c5569da3dce8",
   "metadata": {},
   "outputs": [
    {
     "data": {
      "text/plain": [
       "0.9349715632438146"
      ]
     },
     "execution_count": 17,
     "metadata": {},
     "output_type": "execute_result"
    }
   ],
   "source": [
    "roc_auc_score(y_valid, clf.predict_proba(df_X_valid)[:, 1])"
   ]
  },
  {
   "cell_type": "code",
   "execution_count": 18,
   "id": "a0dd865d-0741-46ab-a741-31e720bbd636",
   "metadata": {},
   "outputs": [
    {
     "data": {
      "text/plain": [
       "0.9325201984842832"
      ]
     },
     "execution_count": 18,
     "metadata": {},
     "output_type": "execute_result"
    }
   ],
   "source": [
    "roc_auc_score(y_test, clf.predict_proba(df_X_test)[:, 1])"
   ]
  }
 ],
 "metadata": {
  "kernelspec": {
   "display_name": "Python 3 (ipykernel)",
   "language": "python",
   "name": "python3"
  },
  "language_info": {
   "codemirror_mode": {
    "name": "ipython",
    "version": 3
   },
   "file_extension": ".py",
   "mimetype": "text/x-python",
   "name": "python",
   "nbconvert_exporter": "python",
   "pygments_lexer": "ipython3",
   "version": "3.10.13"
  }
 },
 "nbformat": 4,
 "nbformat_minor": 5
}
