{
 "cells": [
  {
   "cell_type": "code",
   "execution_count": null,
   "id": "5c6a895b-66d2-4bce-b161-8ecd61b36fde",
   "metadata": {},
   "outputs": [],
   "source": [
    "%load_ext autoreload\n",
    "%autoreload 2"
   ]
  },
  {
   "cell_type": "code",
   "execution_count": null,
   "id": "b8e75195-6aa7-42e4-ad09-efa4bfa30d13",
   "metadata": {},
   "outputs": [],
   "source": [
    "import torch\n",
    "from sklearn.preprocessing import LabelEncoder\n",
    "from sklearn.metrics import roc_auc_score, accuracy_score\n",
    "\n",
    "import pandas as pd\n",
    "import numpy as np\n",
    "np.random.seed(0)\n",
    "\n",
    "import scipy\n",
    "\n",
    "import os\n",
    "from pathlib import Path\n",
    "\n",
    "import warnings\n",
    "warnings.filterwarnings('ignore', category=UserWarning, message='TypedStorage is deprecated')"
   ]
  },
  {
   "cell_type": "code",
   "execution_count": null,
   "id": "adbed34e-f364-40fe-aee3-f29bc0f4ea39",
   "metadata": {},
   "outputs": [],
   "source": [
    "dataset_name = 'census-income'\n",
    "out = Path(os.getcwd()+'/data/'+dataset_name+'.csv')"
   ]
  },
  {
   "cell_type": "code",
   "execution_count": null,
   "id": "a5201fb5-4bb0-4ca1-a9bc-1fec719acb4c",
   "metadata": {},
   "outputs": [],
   "source": [
    "train = pd.read_csv(out)\n",
    "target = ' <=50K'\n",
    "if \"Set\" not in train.columns:\n",
    "    train[\"Set\"] = np.random.choice([\"train\", \"valid\", \"test\"], p =[.8, .1, .1], size=(train.shape[0],))\n",
    "\n",
    "train_indices = train[train.Set==\"train\"].index\n",
    "valid_indices = train[train.Set==\"valid\"].index\n",
    "test_indices = train[train.Set==\"test\"].index"
   ]
  },
  {
   "cell_type": "code",
   "execution_count": null,
   "id": "28defe86-70a9-4dc8-99f8-5290bc72e488",
   "metadata": {},
   "outputs": [],
   "source": [
    "nunique = train.nunique()\n",
    "types = train.dtypes\n",
    "\n",
    "categorical_columns = []\n",
    "categorical_dims =  {}\n",
    "for col in train.columns:\n",
    "    if types[col] == 'object' or nunique[col] < 200:\n",
    "        print(col, train[col].nunique())\n",
    "        l_enc = LabelEncoder()\n",
    "        train[col] = train[col].fillna(\"VV_likely\")\n",
    "        train[col] = l_enc.fit_transform(train[col].values)\n",
    "        categorical_columns.append(col)\n",
    "        categorical_dims[col] = len(l_enc.classes_)\n",
    "    else:\n",
    "        train.fillna(train.loc[train_indices, col].mean(), inplace=True)"
   ]
  },
  {
   "cell_type": "code",
   "execution_count": null,
   "id": "1bb01385-70a4-4562-b6f7-7d4e5df80e7f",
   "metadata": {},
   "outputs": [],
   "source": [
    "unused_feat = ['Set']\n",
    "\n",
    "features = [ col for col in train.columns if col not in unused_feat+[target]] \n",
    "\n",
    "cat_idxs = [ i for i, f in enumerate(features) if f in categorical_columns]\n",
    "\n",
    "cat_dims = [ categorical_dims[f] for i, f in enumerate(features) if f in categorical_columns]\n",
    "\n",
    "num_features = [i for i in range(len(features)) if i not in cat_idxs]"
   ]
  },
  {
   "cell_type": "code",
   "execution_count": null,
   "id": "f88ff9d1-ca05-4cb2-b860-56b12228d5af",
   "metadata": {},
   "outputs": [],
   "source": [
    "X_train = train[features].values[train_indices].astype(float)\n",
    "y_train = train[target].values[train_indices]\n",
    "\n",
    "X_valid = train[features].values[valid_indices].astype(float)\n",
    "y_valid = train[target].values[valid_indices]\n",
    "\n",
    "X_test = train[features].values[test_indices].astype(float)\n",
    "y_test = train[target].values[test_indices]"
   ]
  },
  {
   "cell_type": "code",
   "execution_count": null,
   "id": "7747da94-bf1e-4d52-ae01-582727c1a743",
   "metadata": {
    "scrolled": true
   },
   "outputs": [],
   "source": [
    "mean = X_train[:, num_features].mean(axis=0)\n",
    "std = X_train[:, num_features].std(axis=0)\n",
    "\n",
    "X_train[:, num_features] = (X_train[:, num_features].astype(float) - mean) / std\n",
    "X_valid[:, num_features] = (X_valid[:, num_features].astype(float) - mean) / std\n",
    "X_test[:, num_features] = (X_test[:, num_features].astype(float) - mean) / std"
   ]
  },
  {
   "cell_type": "code",
   "execution_count": null,
   "id": "5b6abaff-4364-4741-8d8f-fdf6e7df8096",
   "metadata": {},
   "outputs": [],
   "source": [
    "from tabr import TabRClassifier\n",
    "clf = TabRClassifier(\n",
    "    cat_indices=cat_idxs,\n",
    "    cat_cardinalities=cat_dims,\n",
    "    type_embeddings=\"one-hot\",\n",
    "    device_name=\"cpu\",\n",
    "    optimizer_params={\"lr\": 2e-4},\n",
    "    d_main=96,\n",
    "    context_size=96,\n",
    "    # context_dropout=0.5,\n",
    "    # context_sample_size=2000,\n",
    "    # num_embeddings={\"type\": \"PLREmbeddings\", \"n_frequencies\": 32, \"frequency_scale\": 32, \"d_embedding\": 32, \"lite\": False},\n",
    ")"
   ]
  },
  {
   "cell_type": "code",
   "execution_count": null,
   "id": "02cfa30d-0a91-4f85-b6b3-85a3809d171e",
   "metadata": {},
   "outputs": [],
   "source": [
    "clf.fit(X_train, y_train, eval_set=[(X_test, y_test), (X_valid, y_valid)], max_epochs=20, batch_size=2048)"
   ]
  },
  {
   "cell_type": "code",
   "execution_count": null,
   "id": "b905dbcc-a511-4c06-971f-631608b2e9bd",
   "metadata": {},
   "outputs": [],
   "source": [
    "# preds_train = clf.predict(X_train)\n",
    "# train_auc = roc_auc_score(y_score=preds_train[:,1], y_true=y_train)\n",
    "\n",
    "preds = clf.predict_proba(X_test)\n",
    "test_auc = roc_auc_score(y_score=preds[:,1], y_true=y_test)\n",
    "\n",
    "preds_valid = clf.predict_proba(X_valid)\n",
    "valid_auc = roc_auc_score(y_score=preds_valid[:,1], y_true=y_valid)\n",
    "\n",
    "# print(f\"FINAL TRAIN SCORE FOR {dataset_name} : {train_auc}\")\n",
    "print(f\"FINAL VALID SCORE FOR {dataset_name} : {valid_auc}\")\n",
    "print(f\"FINAL TEST SCORE FOR {dataset_name} : {test_auc}\")"
   ]
  },
  {
   "cell_type": "markdown",
   "id": "201596dc-b849-4e4c-a2a3-149869ee6d1d",
   "metadata": {},
   "source": [
    "# Catboost"
   ]
  },
  {
   "cell_type": "code",
   "execution_count": null,
   "id": "77eaa859-6156-4720-b691-30d084ca1b2d",
   "metadata": {},
   "outputs": [],
   "source": [
    "from catboost import CatBoostClassifier"
   ]
  },
  {
   "cell_type": "code",
   "execution_count": null,
   "id": "eb293a51-fd45-4802-a317-d5de8b7b45c1",
   "metadata": {},
   "outputs": [],
   "source": [
    "df_X_train = pd.DataFrame(X_train)\n",
    "df_X_valid = pd.DataFrame(X_valid)\n",
    "df_X_test = pd.DataFrame(X_test)"
   ]
  },
  {
   "cell_type": "code",
   "execution_count": null,
   "id": "77ea535a-8a08-41e2-bb97-78da301e057f",
   "metadata": {},
   "outputs": [],
   "source": [
    "cat_idxs"
   ]
  },
  {
   "cell_type": "code",
   "execution_count": null,
   "id": "903bd416-ea27-4c7d-b92a-34b91f6de692",
   "metadata": {},
   "outputs": [],
   "source": [
    "for cat_id in cat_idxs:\n",
    "    df_X_train[cat_id] = df_X_train[cat_id].astype(int).astype(str)\n",
    "    df_X_valid[cat_id] = df_X_valid[cat_id].astype(int).astype(str)\n",
    "    df_X_test[cat_id] = df_X_test[cat_id].astype(int).astype(str)"
   ]
  },
  {
   "cell_type": "code",
   "execution_count": null,
   "id": "0e7172b4-1870-4a16-bd89-f5da695b07c1",
   "metadata": {
    "scrolled": true
   },
   "outputs": [],
   "source": [
    "clf_cat = CatBoostClassifier()\n",
    "clf_cat.fit(\n",
    "    df_X_train, y_train,\n",
    "    eval_set=[(df_X_valid, y_valid)],\n",
    "    cat_features=cat_idxs,\n",
    "    early_stopping_rounds=50,\n",
    ")"
   ]
  },
  {
   "cell_type": "code",
   "execution_count": null,
   "id": "4356c777-70c6-4ff2-8633-c5569da3dce8",
   "metadata": {},
   "outputs": [],
   "source": [
    "roc_auc_score(y_valid, clf_cat.predict_proba(df_X_valid)[:, 1])"
   ]
  },
  {
   "cell_type": "code",
   "execution_count": null,
   "id": "a0dd865d-0741-46ab-a741-31e720bbd636",
   "metadata": {},
   "outputs": [],
   "source": [
    "roc_auc_score(y_test, clf_cat.predict_proba(df_X_test)[:, 1])"
   ]
  },
  {
   "cell_type": "code",
   "execution_count": null,
   "id": "f8b008f5-ad39-4066-98a8-445c2cf0b350",
   "metadata": {},
   "outputs": [],
   "source": [
    "roc_auc_score(y_test, clf_cat.predict_proba(df_X_test)[:, 1] + preds[:, 1])"
   ]
  }
 ],
 "metadata": {
  "kernelspec": {
   "display_name": "Python 3 (ipykernel)",
   "language": "python",
   "name": "python3"
  },
  "language_info": {
   "codemirror_mode": {
    "name": "ipython",
    "version": 3
   },
   "file_extension": ".py",
   "mimetype": "text/x-python",
   "name": "python",
   "nbconvert_exporter": "python",
   "pygments_lexer": "ipython3",
   "version": "3.10.8"
  }
 },
 "nbformat": 4,
 "nbformat_minor": 5
}
