{
 "cells": [
  {
   "cell_type": "code",
   "execution_count": 21,
   "id": "45d9d52e-312d-4788-ba04-24cf98f4d998",
   "metadata": {},
   "outputs": [],
   "source": [
    "from tabr.dataloader import TorchDataset\n",
    "from torch.utils.data import DataLoader\n",
    "import torch"
   ]
  },
  {
   "cell_type": "code",
   "execution_count": 2,
   "id": "fd881f87-ef1c-4713-b859-2f8001adddef",
   "metadata": {},
   "outputs": [],
   "source": [
    "import numpy as np"
   ]
  },
  {
   "cell_type": "code",
   "execution_count": 4,
   "id": "86fe2bb2-3065-4712-aaea-a632fb64e12a",
   "metadata": {},
   "outputs": [],
   "source": [
    "X = np.random.rand(1000, 10)\n",
    "y = np.random.randint(2, size=1000)"
   ]
  },
  {
   "cell_type": "code",
   "execution_count": 5,
   "id": "3b359558-b4a5-48e4-ba9e-c7d174bb2d33",
   "metadata": {},
   "outputs": [],
   "source": [
    "dataset = TorchDataset(X, y)"
   ]
  },
  {
   "cell_type": "code",
   "execution_count": 11,
   "id": "0a44d0d1-72b8-4d60-825b-c3a12f8646a0",
   "metadata": {},
   "outputs": [],
   "source": [
    "dataloader = DataLoader(dataset, batch_size=10, shuffle=True)"
   ]
  },
  {
   "cell_type": "code",
   "execution_count": 13,
   "id": "e88686ba-eb06-4efd-a8c4-3aa9274b256c",
   "metadata": {},
   "outputs": [],
   "source": [
    "indices, batch, y_ = next(iter(dataloader))"
   ]
  },
  {
   "cell_type": "code",
   "execution_count": 22,
   "id": "2c00a4f2-5e8e-493f-8352-ef8f084ca4c3",
   "metadata": {},
   "outputs": [],
   "source": [
    "candidate_indices = torch.Tensor(range(X.shape[0]))"
   ]
  },
  {
   "cell_type": "code",
   "execution_count": 26,
   "id": "b6f19231-f36a-438e-9b74-580b8bd3238c",
   "metadata": {},
   "outputs": [
    {
     "data": {
      "text/plain": [
       "(990, 10)"
      ]
     },
     "execution_count": 26,
     "metadata": {},
     "output_type": "execute_result"
    }
   ],
   "source": [
    "X[~torch.isin(candidate_indices, indices)].shape"
   ]
  }
 ],
 "metadata": {
  "kernelspec": {
   "display_name": "Python 3 (ipykernel)",
   "language": "python",
   "name": "python3"
  },
  "language_info": {
   "codemirror_mode": {
    "name": "ipython",
    "version": 3
   },
   "file_extension": ".py",
   "mimetype": "text/x-python",
   "name": "python",
   "nbconvert_exporter": "python",
   "pygments_lexer": "ipython3",
   "version": "3.10.8"
  }
 },
 "nbformat": 4,
 "nbformat_minor": 5
}
