{
 "cells": [
  {
   "cell_type": "code",
   "execution_count": null,
   "id": "0b434628-51e5-485a-8ec7-db02e0840d00",
   "metadata": {},
   "outputs": [],
   "source": [
    "%load_ext autoreload\n",
    "%autoreload 2"
   ]
  },
  {
   "cell_type": "code",
   "execution_count": null,
   "id": "ebe158b4-9fe7-480e-920f-d7d48eb0a0fd",
   "metadata": {},
   "outputs": [],
   "source": [
    "import torch\n",
    "from sklearn.preprocessing import LabelEncoder\n",
    "from sklearn.metrics import roc_auc_score, accuracy_score\n",
    "\n",
    "import pandas as pd\n",
    "import numpy as np\n",
    "np.random.seed(0)\n",
    "\n",
    "import scipy\n",
    "\n",
    "import os\n",
    "from pathlib import Path\n",
    "\n",
    "import warnings\n",
    "warnings.filterwarnings('ignore', category=UserWarning, message='TypedStorage is deprecated')"
   ]
  },
  {
   "cell_type": "code",
   "execution_count": null,
   "id": "0717de5a-4014-4974-84e2-d4313d517185",
   "metadata": {},
   "outputs": [],
   "source": [
    "from ucimlrepo import fetch_ucirepo \n",
    "  \n",
    "# # fetch dataset \n",
    "covertype = fetch_ucirepo(id=31) \n",
    "  \n",
    "# data (as pandas dataframes) \n",
    "train = covertype.data.features "
   ]
  },
  {
   "cell_type": "code",
   "execution_count": null,
   "id": "692b7362-61ef-4d33-aa72-b4aa6d03b6d2",
   "metadata": {},
   "outputs": [],
   "source": [
    "train = train.reset_index().drop([\"level_0\", \"level_1\", \"level_2\"], axis=1)"
   ]
  },
  {
   "cell_type": "code",
   "execution_count": null,
   "id": "d4e89be9-cfc8-43a3-8a61-88c1eb9c2cd7",
   "metadata": {},
   "outputs": [],
   "source": [
    "if \"Set\" not in train.columns:\n",
    "    train[\"Set\"] = np.random.choice([\"train\", \"valid\", \"test\"], p =[.8, .1, .1], size=(train.shape[0],))\n",
    "\n",
    "train_indices = train[train.Set==\"train\"].index\n",
    "valid_indices = train[train.Set==\"valid\"].index\n",
    "test_indices = train[train.Set==\"test\"].index"
   ]
  },
  {
   "cell_type": "code",
   "execution_count": null,
   "id": "702abf0c-5e78-4e2d-adff-654d4c7f62ed",
   "metadata": {},
   "outputs": [],
   "source": [
    "target = \"Cover_Type\""
   ]
  },
  {
   "cell_type": "code",
   "execution_count": null,
   "id": "978ca5d3-a2ef-4497-b1d9-0b380aaded70",
   "metadata": {
    "scrolled": true
   },
   "outputs": [],
   "source": [
    "nunique = train.nunique()\n",
    "types = train.dtypes\n",
    "\n",
    "categorical_columns = []\n",
    "categorical_dims =  {}\n",
    "for col in train.columns:\n",
    "    if types[col] == 'object' or nunique[col] < 10:\n",
    "        print(col, train[col].nunique())\n",
    "        l_enc = LabelEncoder()\n",
    "        train[col] = train[col].fillna(\"VV_likely\")\n",
    "        train[col] = l_enc.fit_transform(train[col].values)\n",
    "        categorical_columns.append(col)\n",
    "        categorical_dims[col] = len(l_enc.classes_)\n",
    "    else:\n",
    "        train.fillna(train.loc[train_indices, col].mean(), inplace=True)"
   ]
  },
  {
   "cell_type": "code",
   "execution_count": null,
   "id": "19009494-75d7-46c6-9c19-643e1e9473c9",
   "metadata": {},
   "outputs": [],
   "source": [
    "unused_feat = ['Set']\n",
    "\n",
    "features = [ col for col in train.columns if col not in unused_feat+[target]] \n",
    "\n",
    "cat_idxs = [ i for i, f in enumerate(features) if f in categorical_columns]\n",
    "\n",
    "cat_dims = [ categorical_dims[f] for i, f in enumerate(features) if f in categorical_columns]\n",
    "\n",
    "num_features = [i for i in range(len(features)) if i not in cat_idxs]"
   ]
  },
  {
   "cell_type": "code",
   "execution_count": null,
   "id": "2eab5ef1-3b72-40bf-ada0-ae74f45c0bcc",
   "metadata": {},
   "outputs": [],
   "source": [
    "X_train = train[features].values[train_indices].astype(float)\n",
    "y_train = train[target].values[train_indices]\n",
    "\n",
    "X_valid = train[features].values[valid_indices].astype(float)\n",
    "y_valid = train[target].values[valid_indices]\n",
    "\n",
    "X_test = train[features].values[test_indices].astype(float)\n",
    "y_test = train[target].values[test_indices]"
   ]
  },
  {
   "cell_type": "code",
   "execution_count": null,
   "id": "2091abcd-c2aa-4649-9ce6-ba32900aed3a",
   "metadata": {},
   "outputs": [],
   "source": [
    "mean = X_train[:, num_features].mean(axis=0)\n",
    "std = X_train[:, num_features].std(axis=0)\n",
    "\n",
    "X_train[:, num_features] = (X_train[:, num_features].astype(float) - mean) / std\n",
    "X_valid[:, num_features] = (X_valid[:, num_features].astype(float) - mean) / std\n",
    "X_test[:, num_features] = (X_test[:, num_features].astype(float) - mean) / std"
   ]
  },
  {
   "cell_type": "code",
   "execution_count": null,
   "id": "0d80b953-9d9c-4dbb-a7bf-166217afcb57",
   "metadata": {},
   "outputs": [],
   "source": [
    "from tabr import TabRClassifier\n",
    "clf = TabRClassifier(\n",
    "    bin_indices=cat_idxs,\n",
    "    device_name=\"cuda\",\n",
    "    optimizer_params=dict(lr=2e-4),\n",
    ")"
   ]
  },
  {
   "cell_type": "code",
   "execution_count": null,
   "id": "53d5dc2f-a30b-4c30-a78e-c64fa179df91",
   "metadata": {},
   "outputs": [],
   "source": [
    "clf.fit(X_train, y_train, eval_set=[(X_valid, y_valid)], max_epochs=2, batch_size=1024)"
   ]
  },
  {
   "cell_type": "code",
   "execution_count": null,
   "id": "9688605f-6188-4c96-bcf8-f0bcb1b60596",
   "metadata": {},
   "outputs": [],
   "source": [
    "# preds_train = clf.predict(X_train)\n",
    "# train_auc = roc_auc_score(y_score=preds_train[:,1], y_true=y_train)\n",
    "\n",
    "preds = clf.predict(X_test)\n",
    "test_acc = accuracy_score(y_true=y_test, y_pred=preds)\n",
    "\n",
    "preds_valid = clf.predict(X_valid)\n",
    "valid_acc = accuracy_score(y_true=y_valid, y_pred=preds_valid)\n",
    "\n",
    "# print(f\"FINAL TRAIN SCORE FOR {dataset_name} : {train_auc}\")\n",
    "print(f\"FINAL VALID SCORE : {valid_acc}\")\n",
    "print(f\"FINAL TEST SCORE : {test_acc}\")"
   ]
  },
  {
   "cell_type": "markdown",
   "id": "fa414f4c-5110-43bb-bba3-1145d8771928",
   "metadata": {},
   "source": [
    "# Catboost"
   ]
  },
  {
   "cell_type": "code",
   "execution_count": null,
   "id": "33f2e2b0-d480-4e92-9f3c-b76258502dc8",
   "metadata": {},
   "outputs": [],
   "source": [
    "from catboost import CatBoostClassifier"
   ]
  },
  {
   "cell_type": "code",
   "execution_count": null,
   "id": "f7dcb806-4394-43ff-ac96-5757cd53589a",
   "metadata": {},
   "outputs": [],
   "source": [
    "df_X_train = pd.DataFrame(X_train)\n",
    "df_X_valid = pd.DataFrame(X_valid)\n",
    "df_X_test = pd.DataFrame(X_test)"
   ]
  },
  {
   "cell_type": "code",
   "execution_count": null,
   "id": "7f4b906e-bafe-4f6f-8cc0-7eb585d5b2d7",
   "metadata": {},
   "outputs": [],
   "source": [
    "for cat_id in cat_idxs:\n",
    "    df_X_train[cat_id] = df_X_train[cat_id].astype(int).astype(str)\n",
    "    df_X_valid[cat_id] = df_X_valid[cat_id].astype(int).astype(str)\n",
    "    df_X_test[cat_id] = df_X_test[cat_id].astype(int).astype(str)"
   ]
  },
  {
   "cell_type": "code",
   "execution_count": null,
   "id": "dafd0e71-df05-488e-8d96-dad93f89fc18",
   "metadata": {
    "scrolled": true
   },
   "outputs": [],
   "source": [
    "clf = CatBoostClassifier(\n",
    "    devices=[0],\n",
    "    iterations=20000,\n",
    "    learning_rate=0.1,\n",
    ")\n",
    "clf.fit(\n",
    "    df_X_train, y_train,\n",
    "    eval_set=[(df_X_valid, y_valid)],\n",
    "    cat_features=cat_idxs,\n",
    "    early_stopping_rounds=50,\n",
    ")"
   ]
  },
  {
   "cell_type": "code",
   "execution_count": null,
   "id": "7ca7e746-d762-4562-9cbb-3abb0c583936",
   "metadata": {},
   "outputs": [],
   "source": [
    "accuracy_score(y_true=y_test, y_pred=np.argmax(clf.predict_proba(df_X_test), axis=1))"
   ]
  }
 ],
 "metadata": {
  "kernelspec": {
   "display_name": "Python 3 (ipykernel)",
   "language": "python",
   "name": "python3"
  },
  "language_info": {
   "codemirror_mode": {
    "name": "ipython",
    "version": 3
   },
   "file_extension": ".py",
   "mimetype": "text/x-python",
   "name": "python",
   "nbconvert_exporter": "python",
   "pygments_lexer": "ipython3",
   "version": "3.10.8"
  }
 },
 "nbformat": 4,
 "nbformat_minor": 5
}
