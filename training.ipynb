{
 "cells": [
  {
   "cell_type": "code",
   "execution_count": 1,
   "id": "84ffbf1d-517d-4a36-9fd8-712397fca983",
   "metadata": {},
   "outputs": [],
   "source": [
    "%load_ext autoreload\n",
    "%autoreload 2"
   ]
  },
  {
   "cell_type": "code",
   "execution_count": 31,
   "id": "714f0dbe-9d4a-4801-90f0-c09c1542bd10",
   "metadata": {},
   "outputs": [],
   "source": [
    "import torch\n",
    "import numpy as np\n",
    "from sklearn.metrics import roc_auc_score\n",
    "import warnings\n",
    "warnings.filterwarnings('ignore', category=UserWarning, message='TypedStorage is deprecated')"
   ]
  },
  {
   "cell_type": "code",
   "execution_count": 32,
   "id": "445bbf8b-89db-45f3-bd44-73d11fef796a",
   "metadata": {},
   "outputs": [],
   "source": [
    "X = np.random.rand(1000, 10)\n",
    "y = np.array([0 if x[0] < 0.2 else 1 for x in X])# np.random.randint(2, size=1000)"
   ]
  },
  {
   "cell_type": "code",
   "execution_count": 33,
   "id": "0b543a26-758d-425b-a4ab-9b2d2e1d34d3",
   "metadata": {},
   "outputs": [],
   "source": [
    "from pytorch_tabr.model import TabRClassifier"
   ]
  },
  {
   "cell_type": "code",
   "execution_count": 34,
   "id": "76061d82-7ce2-4178-97cc-66fd81be6a75",
   "metadata": {},
   "outputs": [],
   "source": [
    "clf = TabRClassifier()"
   ]
  },
  {
   "cell_type": "code",
   "execution_count": 35,
   "id": "f154ae76-aee7-40c3-bcd7-c196f5ff4a46",
   "metadata": {},
   "outputs": [
    {
     "name": "stdout",
     "output_type": "stream",
     "text": [
      "2\n",
      "0\n",
      "1\n",
      "2\n",
      "3\n",
      "4\n",
      "5\n",
      "6\n",
      "7\n",
      "8\n",
      "9\n"
     ]
    }
   ],
   "source": [
    "clf.fit(X, y, max_epochs=10)"
   ]
  },
  {
   "cell_type": "code",
   "execution_count": 36,
   "id": "1dbef494-7158-4472-a10b-dbecea48f76c",
   "metadata": {},
   "outputs": [
    {
     "data": {
      "text/plain": [
       "1.0"
      ]
     },
     "execution_count": 36,
     "metadata": {},
     "output_type": "execute_result"
    }
   ],
   "source": [
    "roc_auc_score(y, clf.predict(X)[:, 1])"
   ]
  }
 ],
 "metadata": {
  "kernelspec": {
   "display_name": "Python 3 (ipykernel)",
   "language": "python",
   "name": "python3"
  },
  "language_info": {
   "codemirror_mode": {
    "name": "ipython",
    "version": 3
   },
   "file_extension": ".py",
   "mimetype": "text/x-python",
   "name": "python",
   "nbconvert_exporter": "python",
   "pygments_lexer": "ipython3",
   "version": "3.10.8"
  }
 },
 "nbformat": 4,
 "nbformat_minor": 5
}
