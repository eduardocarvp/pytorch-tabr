{
 "cells": [
  {
   "cell_type": "code",
   "execution_count": null,
   "id": "84ffbf1d-517d-4a36-9fd8-712397fca983",
   "metadata": {},
   "outputs": [],
   "source": [
    "%load_ext autoreload\n",
    "%autoreload 2"
   ]
  },
  {
   "cell_type": "code",
   "execution_count": null,
   "id": "714f0dbe-9d4a-4801-90f0-c09c1542bd10",
   "metadata": {},
   "outputs": [],
   "source": [
    "import torch\n",
    "import numpy as np\n",
    "from sklearn.metrics import roc_auc_score\n",
    "import warnings\n",
    "warnings.filterwarnings('ignore', category=UserWarning, message='TypedStorage is deprecated')"
   ]
  },
  {
   "cell_type": "code",
   "execution_count": null,
   "id": "445bbf8b-89db-45f3-bd44-73d11fef796a",
   "metadata": {},
   "outputs": [],
   "source": [
    "X_train = np.random.rand(1000, 10)\n",
    "y_train_classification = np.array([int(x[0] > 0.5) for x in X_train])\n",
    "y_train_regression = np.array([float(x[0] * 2) for x in X_train])\n",
    "\n",
    "X_valid = np.random.rand(1000, 10)\n",
    "y_valid_classification = np.array([int(x[0] > 0.5) for x in X_valid])\n",
    "y_valid_regression = np.array([float(x[0] * 2) for x in X_valid])\n",
    "\n",
    "X_test = np.random.rand(1000, 10)\n",
    "y_test_classification = np.array([int(x[0] > 0.5) for x in X_test])\n",
    "y_test_regression = np.array([float(x[0] * 2) for x in X_test])"
   ]
  },
  {
   "cell_type": "code",
   "execution_count": null,
   "id": "0b543a26-758d-425b-a4ab-9b2d2e1d34d3",
   "metadata": {},
   "outputs": [],
   "source": [
    "from pytorch_tabr import TabRClassifier, TabRRegressor"
   ]
  },
  {
   "cell_type": "code",
   "execution_count": null,
   "id": "76061d82-7ce2-4178-97cc-66fd81be6a75",
   "metadata": {},
   "outputs": [],
   "source": [
    "clf = TabRClassifier(d_main=96)"
   ]
  },
  {
   "cell_type": "code",
   "execution_count": null,
   "id": "f154ae76-aee7-40c3-bcd7-c196f5ff4a46",
   "metadata": {},
   "outputs": [],
   "source": [
    "clf.fit(\n",
    "    X_train, y_train_classification,\n",
    "    eval_set=[(X_valid, y_valid_classification)],\n",
    "    max_epochs=20,\n",
    "    patience=5,\n",
    "    batch_size=64,\n",
    ")\n"
   ]
  },
  {
   "cell_type": "code",
   "execution_count": null,
   "id": "d196e6ea-8f51-4a1d-aa37-dd4d9ced5862",
   "metadata": {},
   "outputs": [],
   "source": [
    "preds = clf.predict_proba(X_test)"
   ]
  },
  {
   "cell_type": "code",
   "execution_count": null,
   "id": "64ebea4f-ba92-4256-948f-72faa12b7d84",
   "metadata": {},
   "outputs": [],
   "source": [
    "roc_auc_score(y_test_classification, preds[:, 1])"
   ]
  },
  {
   "cell_type": "code",
   "execution_count": null,
   "id": "1dbef494-7158-4472-a10b-dbecea48f76c",
   "metadata": {},
   "outputs": [],
   "source": [
    "assert (1 - roc_auc_score(y_test_classification, preds[:, 1])) <= 0.01"
   ]
  },
  {
   "cell_type": "code",
   "execution_count": null,
   "id": "4a70d198-7a16-4986-936d-020c0142c7fc",
   "metadata": {
    "scrolled": true
   },
   "outputs": [],
   "source": [
    "from sklearn.metrics import mean_squared_error\n",
    "clf = TabRRegressor(\n",
    "    encoder_n_blocks=0,\n",
    "    predictor_n_blocks=1,\n",
    ")\n",
    "clf.fit(\n",
    "    X_train, y_train_regression.reshape(-1, 1),\n",
    "    eval_set=[(X_valid, y_valid_regression.reshape(-1, 1))],\n",
    "    max_epochs=100,\n",
    "    patience=20,\n",
    "    batch_size=64,\n",
    ")\n",
    "preds = clf.predict(X_train)\n",
    "print(mean_squared_error(y_train_regression, preds.flatten()))\n",
    "assert mean_squared_error(y_train_regression, preds.flatten()) <= 0.01"
   ]
  },
  {
   "cell_type": "code",
   "execution_count": null,
   "id": "d289cdb4-8c91-4acc-b8f5-195b92f7754a",
   "metadata": {},
   "outputs": [],
   "source": [
    "mean_squared_error(y_train_regression, preds.flatten())"
   ]
  }
 ],
 "metadata": {
  "kernelspec": {
   "display_name": "Python 3 (ipykernel)",
   "language": "python",
   "name": "python3"
  },
  "language_info": {
   "codemirror_mode": {
    "name": "ipython",
    "version": 3
   },
   "file_extension": ".py",
   "mimetype": "text/x-python",
   "name": "python",
   "nbconvert_exporter": "python",
   "pygments_lexer": "ipython3",
   "version": "3.10.8"
  }
 },
 "nbformat": 4,
 "nbformat_minor": 5
}
